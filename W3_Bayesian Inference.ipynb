{
 "cells": [
  {
   "cell_type": "code",
   "execution_count": 1,
   "metadata": {},
   "outputs": [],
   "source": [
    "#Name: Chaeyoon Kim\n",
    "#City Email: Chaeyoon.Kim@city.ac.uk"
   ]
  },
  {
   "cell_type": "markdown",
   "metadata": {},
   "source": [
    "## The Bayesian framework\n",
    "\n",
    "our level of confidence\n",
    "toss coin 1 and head, p(heads)=1?\n",
    "assume \"prior\" distribution, uniform? different?"
   ]
  },
  {
   "cell_type": "markdown",
   "metadata": {},
   "source": [
    "X = outcome of a coin toss, p = proability of success <br>\n",
    "X ~ Bernoulli(p) <br>\n",
    "$P(X = x) = p^x * (1-p)^(1-x)$\n",
    "Prior = P(p) = 1 <br>\n",
    "\n",
    "When I toss the coin once, X = 1(heads) <br>\n",
    "P(p|X=1) = P(X=1|p) * P(p) <br>\n",
    "         = p * 1  <br>\n",
    "         = p <br>\n",
    "Now we have P(p)=p. <br><br>\n",
    "\n",
    "Trial2: I toss the coin again, X = 0(tails) <br>\n",
    "P(p|X=0) = P(X=0|p) * P(p) <br>\n",
    "         = (1-p) * p <br>\n",
    "Now we have P(p)=(1-p)*p <br>\n",
    "\n",
    "Trial3: I toss the coin again, X = 0(tails) <br>\n",
    "P(p|X=0) = P(X=0|p) * P(p) <br>\n",
    "         = (1-p) * (1-p)*p <br>\n",
    "Now we have P(p)= (1-p)^2 * p <br>\n",
    "\n",
    "...<br>\n",
    "In the same way, <br>\n",
    "X = number of heads after 10 tosses, p = proability of success <br>\n",
    "X ~ Binom(10, p) <br>\n",
    "P(X=x) = (10 x) * p^x * (1 - p) ^ (10-x) <br>\n",
    "Prior = P(p) = 1 <br>\n",
    "\n",
    "if I tossed the coin 10 times, and take x = 4(heads) <br>\n",
    "P(X=4) = (10 4) * p^4 * (1 - p) ^ (6) <br>\n",
    "posterior = (10 4) * p^4 * ( 1 - p) ^ (6) * 1 <br>"
   ]
  },
  {
   "cell_type": "code",
   "execution_count": null,
   "metadata": {},
   "outputs": [],
   "source": []
  }
 ],
 "metadata": {
  "kernelspec": {
   "display_name": "Python 3",
   "language": "python",
   "name": "python3"
  },
  "language_info": {
   "codemirror_mode": {
    "name": "ipython",
    "version": 3
   },
   "file_extension": ".py",
   "mimetype": "text/x-python",
   "name": "python",
   "nbconvert_exporter": "python",
   "pygments_lexer": "ipython3",
   "version": "3.7.7"
  }
 },
 "nbformat": 4,
 "nbformat_minor": 4
}
