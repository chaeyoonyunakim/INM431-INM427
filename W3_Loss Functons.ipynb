{
 "cells": [
  {
   "cell_type": "code",
   "execution_count": 1,
   "metadata": {},
   "outputs": [],
   "source": [
    "#Name: Chaeyoon Kim\n",
    "#City Email: Chaeyoon.Kim@city.ac.uk"
   ]
  },
  {
   "cell_type": "markdown",
   "metadata": {},
   "source": [
    "Suppose X = [$x_1, x_2, x_3$] -> $f(x)$ = [$p_1, p_2, p_3$] <br>\n",
    "\n",
    "$p_1$: probability that X is $x_1$, a cat <br>\n",
    "$p_2$: prob that X is $x_2$, a dog <br>\n",
    "$p_3$: prob that X is $x_3$, a mouse <br>\n",
    "\n",
    "$f(x)$ = [0.1, 0.4, 0.5] $\\simeq$ [0 0 1] by likelihood <br> <br>\n",
    "\n",
    "\"one-hot encoding\" (convert categorical data to numerical data)"
   ]
  },
  {
   "cell_type": "markdown",
   "metadata": {},
   "source": [
    "$$\n",
    "\\text{output} = \\begin{bmatrix} 0.1 & 0.3 & 0.6\\\\ 0.2 & 0.6 & 0.2\\\\ 0.3 & 0.4 & 0.3 \\end{bmatrix}, \n",
    "\\text{target} = \\begin{bmatrix} 0 & 0 & 1\\\\ 0 & 1 & 0\\\\ 1 & 0 & 0 \\end{bmatrix}\n",
    "$$"
   ]
  },
  {
   "cell_type": "markdown",
   "metadata": {},
   "source": [
    "for i in row <br>\n",
    "\n",
    "step1: [v, idx] = max[A(1)] <br>\n",
    "step2: <br>\n",
    "&nbsp;&nbsp;&nbsp;    [v, idx] != v => True <br>\n",
    "\n",
    "end"
   ]
  },
  {
   "cell_type": "code",
   "execution_count": null,
   "metadata": {},
   "outputs": [],
   "source": [
    "# Count = 100 -> acutual(a)\n",
    "# ModelA = 120 add ModelB = 70 => predict(p)\n",
    "\n",
    "#1. |p-a| = Mean Absolute Error\n",
    "\n",
    "#2. (p-a)^2 = Mean Squared Error\n",
    "### The larger the difference between the correct answer and the predicted value,\n",
    "### the more you want to give a penalty.\n",
    "\n",
    "#3. root((p-a)^2) =Root Mean Squared Error *similar with option_2 rather than option_1\n",
    "### Instead, you can think of it as the opposite of the characteristics of option_2."
   ]
  },
  {
   "cell_type": "code",
   "execution_count": null,
   "metadata": {},
   "outputs": [],
   "source": [
    "# root(1/n * sigma(i=1->n)((log(pi+1)-log(ai+1))^2))\n",
    "# => root((log(p+1)-log(a+1))^2) It gives a smaller panalty even if the difference is big."
   ]
  }
 ],
 "metadata": {
  "kernelspec": {
   "display_name": "Python 3",
   "language": "python",
   "name": "python3"
  },
  "language_info": {
   "codemirror_mode": {
    "name": "ipython",
    "version": 3
   },
   "file_extension": ".py",
   "mimetype": "text/x-python",
   "name": "python",
   "nbconvert_exporter": "python",
   "pygments_lexer": "ipython3",
   "version": "3.7.7"
  }
 },
 "nbformat": 4,
 "nbformat_minor": 4
}
