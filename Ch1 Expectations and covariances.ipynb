{
 "cells": [
  {
   "cell_type": "code",
   "execution_count": 11,
   "metadata": {},
   "outputs": [],
   "source": [
    "#Name: Chaeyoon Kim\n",
    "#City Email: Chaeyoon.Kim@city.ac.uk\n",
    "#Chris Bishop, \"Pattern Recognition and Machine Learning\", Springer, 2006 (https://g.co/kgs/CsLSX8)\n",
    "\n",
    "import numpy as np"
   ]
  },
  {
   "cell_type": "markdown",
   "metadata": {},
   "source": [
    "# Intro"
   ]
  },
  {
   "cell_type": "markdown",
   "metadata": {},
   "source": [
    "### Case1\n",
    "Let $\\mathbf{X}$ be a Random Variable that tells you the side of a coin,\n",
    "$R_{\\mathbf{x}} = \\left\\{\\text{H}, \\text{T} \\right\\}$\n",
    "\n",
    "The proability of all possible values $P_{\\mathbf{x}} =\\left\\{\\begin{array}{rl}{1} & {\\text{ if } x=Heads} \\\\ {0} & {\\text{ if } x=Tails} \\end{array}\\right\\}$ <br><br>\n",
    "$\\mathbb{E}[\\mathbf{X}] = \\sum_{x \\in R_{\\mathbf{x}}}{xP_{\\mathbf{x}}(x)} = 1\\times P({\\mathbf{X}}=\\text{H})+0\\times P({\\mathbf{X}}=\\text{T})=\\frac{1}{2}$"
   ]
  },
  {
   "cell_type": "markdown",
   "metadata": {},
   "source": [
    "### Case2\n",
    "Let $\\mathbf{X}$ be a Random Variable that tells you the side of two coins,\n",
    "$R_{\\mathbf{x}} = \\left\\{\\left(\\begin{array}{l} {T} \\\\ {T}\\end{array}\\right), \\left(\\begin{array}{l} {T} \\\\ {H}\\end{array}\\right), \\left(\\begin{array}{l} {H} \\\\ {T}\\end{array}\\right), \\left(\\begin{array}{l} {H} \\\\ {H}\\end{array}\\right)\\right\\}$\n",
    "\n",
    "The proability of all possible values $P_{\\mathbf{x}} = \\left\\{0.25, 0.25, 0.25, 0.25\\right\\}$"
   ]
  },
  {
   "cell_type": "markdown",
   "metadata": {},
   "source": [
    "### Case3\n",
    "\n",
    "Let $\\mathbf{X}$ be a Random Variable which is the winner of the 2020 presidential election. The possible values that random value can take, $R_{\\mathbf{x}} = \\left\\{ A, B \\right\\}$\n",
    "\n",
    "The proability of all possible values $P_{\\mathbf{x}} =\\left\\{\\begin{array}{rl}{0.1} & {\\text{ if } x=A} \\\\ {0.9} & {\\text{ if } x=B} \\end{array}\\right\\}$"
   ]
  },
  {
   "cell_type": "markdown",
   "metadata": {},
   "source": [
    "### Case4\n",
    "Let $\\mathbf{X}$ be a Random Variable to answer 'Is it going to rain on Wednesday?'. The range of values R.V X can take, $R_{\\mathbf{x}} = \\left\\{ \\text{rain}, \\text{sunny}, \\text{snow} \\right\\}$\n",
    "\n",
    "The proability of all possible values $P_{\\mathbf{x}} =\\left\\{\\begin{array}{rl}{0.3} & {\\text{ for } x=rain} \\\\ {0.3} & {\\text{ for } x=sunny} \\\\ {0.4} & {\\text{ for } x=snow} \\end{array}\\right\\}$"
   ]
  },
  {
   "cell_type": "markdown",
   "metadata": {},
   "source": [
    "$\\mathbb{E}[\\mathbf{X}] = \\sum_{x \\in R_{\\mathbf{x}}}{xP_{\\mathbf{x}}(x)} = \\sum_{x \\in {1,2,3}}{P({\\mathbf{X}}=x)} = P({\\mathbf{x}}=1)+P({\\mathbf{x}}=2)+P({\\mathbf{x}}=3)=0.3+0.3+0.4 = 1$"
   ]
  },
  {
   "cell_type": "markdown",
   "metadata": {},
   "source": [
    "# Expectations"
   ]
  },
  {
   "cell_type": "markdown",
   "metadata": {},
   "source": [
    "$\\mathbb{E}[\\mathbf{X}] = \\sum_{x \\in R_{\\mathbf{x}}}{xP_{\\mathbf{x}}(x)} $ <br>\n",
    "\n",
    "For example, let's suppose $X=\\left\\{1, 2, 2, 3, 3, 3\\right\\}$. <br><br>\n",
    "The average value of some function $f(x)$ under a probability distribution $p(x)$ is called the expectation of $f(x)$ and denoted by $\\mathbb{E}[f]$. <br><br>\n",
    "The weighted averages of functions, $\\mathbb{E}[\\mathbf{X}] = 1\\times\\frac{3}{6}+2\\times\\frac{2}{6}+3\\times\\frac{1}{6}=1.3$ <br><br>"
   ]
  },
  {
   "cell_type": "markdown",
   "metadata": {},
   "source": [
    "All distributions satisfy the definition of Expectation($\\mathbb{E}$) which directs linearity, <br><br>\n",
    "$g:\\mathbb{R} \\rightarrow \\mathbb{R}$, $g$ is linear if the following two axioms hold: <br><br>\n",
    "(1) for $g({\\lambda}x) \\text{ where } \\lambda\\in\\mathbb{R}, g({\\lambda}x)={\\lambda}{g(x)}$ <br><br>\n",
    "(2) for $a, b \\in \\mathbb{R}$, $g(a+b) = g(a) + g(b)$ <br><br>"
   ]
  },
  {
   "cell_type": "markdown",
   "metadata": {},
   "source": [
    "By definition, the Expectation($\\mathbb{E}[\\mathbf{X}]$) is linear with two axioms of linearity: <br><br>\n",
    "(1) $\\mathbb{E}[\\lambda\\mathbf{X}]= \\sum_{x \\in \\mathbb{R}_\\mathbf{x}}{\\lambda}{x}{P_{\\mathbf{x}}(x)} = {\\lambda}\\sum_{x \\in \\mathbb{R}_\\mathbf{x}}{x}{P_{\\mathbf{x}}(x)} = \\lambda\\mathbb{E}[\\mathbf{X}]$ <br><br>\n",
    "(2) $\\mathbb{E}[x+y] = \\sum_{x,y \\in \\mathbb{R}_\\mathbf{x},\\mathbb{R}_\\mathbf{y}}(x+y){P_{\\mathbf{x},\\mathbf{y}}(x+y)} = \\sum_{x,y \\in \\mathbb{R}_\\mathbf{x},\\mathbb{R}_\\mathbf{y}}{xP_{\\mathbf{x}}(x)}+{yP_{\\mathbf{y}}(y)} = \\sum_{x \\in \\mathbb{R}_\\mathbf{x}}{x}{P_{\\mathbf{x}}(x)}$ + $\\sum_{y \\in \\mathbb{R}_\\mathbf{y}}{y}{P_{\\mathbf{y}}(y)} = {\\mathbb{E}[x]}+{\\mathbb{E}[y]}$ <br>"
   ]
  },
  {
   "cell_type": "markdown",
   "metadata": {},
   "source": [
    "### Key notes:\n",
    "(1) For the given sample of size n, $\\mathbf{x}_n = x_1, x_2, x_3, \\cdot , x_n$ <br><br>\n",
    "$\\quad\\vec\\mu_\\mathbf{x} = \\frac{\\sum_{i=1}^{n}x_i}{n} \\equiv \\text{Average}(x)$ and $\\vec\\mu_\\mathbf{x}$ is an unbiased estimator of $\\mathbb{E}[\\mathbf{X}]$ <br><br>\n",
    "(2) $\\sigma_\\mathbf{x}^2 = \\text{Var}(\\mathbf{X}) = \\sum_{x \\in R_{\\mathbf{x}}}{(x-\\mathbb{E}[\\mathbf{X}])^2P_{\\mathbf{x}}(x)}$\n",
    "<br>\n",
    "$\\qquad =\\frac{1}{n-1}\\sum_{i=1}^{n}(x_i-\\bar{x})^2$ <br><br>\n",
    "$\\qquad =\\frac{1}{n}\\sum_{i=1}^{n}(x_i-\\bar{x})^2$ <br><br>\n",
    "Sample variance estimate an unbiased estimator of Var($\\mathbf{X}$) which is a biased estimator of $\\mathbf{X}$"
   ]
  },
  {
   "cell_type": "markdown",
   "metadata": {},
   "source": [
    "# Covariances"
   ]
  },
  {
   "cell_type": "markdown",
   "metadata": {},
   "source": [
    "$Cov(\\mathbf{x})= \\sum_{\\mathbf{x} \\in \\mathbb{R}_\\mathbf{x}}{(\\mathbf{x}-\\mathbb{E}_{\\mathbf{x}}[\\mathbf{X})}{(\\mathbf{x}-\\mathbb{E}_{\\mathbf{x}}[\\mathbf{X}])^\\top}{P_\\mathbf{x}}(\\mathbf{x})$ <br><br>\n",
    "$Cov(\\mathbf{x}, \\mathbf{x}) = \\left[\\begin{array}{rrr}{Cov(\\mathbf{x}_1\\mathbf{x}_1)} & {Cov({\\mathbf{x}_1\\mathbf{x}_2})} \\\\ {Cov({\\mathbf{x}_2\\mathbf{x}_1})} & {Cov(\\mathbf{x}_2\\mathbf{x}_2)} \\end{array}\\right] = \\left[\\begin{array}{rrr}{Var(\\mathbf{x}_1)} & {Cov({\\mathbf{x}_1\\mathbf{x}_2})} \\\\ {Cov({\\mathbf{x}_2\\mathbf{x}_1})} & {Var(\\mathbf{x}_2)} \\end{array}\\right]$ <br><br>\n",
    "$Cov(\\mathbf{x}_1, \\mathbf{x}_2) = \\frac{1}{n-1}\\sum(x_1-\\bar{x}_1)(x_2-\\bar{x}_2)= \\frac{1}{n}\\sum(x_1-\\bar{x}_1)(x_2-\\bar{x}_2)$ <br><br>\n",
    "note: $Cov(\\mathbf{x}_1, \\mathbf{x}_2) = \\frac{1}{n-1}\\vec{a}\\cdot\\vec{b}$ with $\\vec{a} = \\left[\\begin{array}{rrr}{x_1^1-\\bar{x}^1} \\\\ {x_2^1-\\bar{x}^1} \\\\ {x_3^1-\\bar{x}^1} \\\\ {x_4^1-\\bar{x}^1} \\end{array}\\right], \\text{ and } \\vec{b} = \\left[\\begin{array}{rrr}{x_1^2-\\bar{x}^2} \\\\ {x_2^2-\\bar{x}^2} \\\\ {x_3^2-\\bar{x}^2} \\\\ {x_4^2-\\bar{x}^2} \\end{array}\\right]$<br>\n",
    "\n",
    "with respect to probability, <br>\n",
    "$Cov(\\mathbf{x},\\mathbf{y}) = \\mathbb{E}_{\\mathbf{x},\\mathbf{y}}[(\\mathbf{x}-\\mathbb{E}_\\mathbf{x}[\\mathbf{X}])(\\mathbf{y^\\top}-\\mathbb{E}_\\mathbf{y}[\\mathbf{y^\\top}])] $ <br><br>\n",
    "Once I get an Expectation, it is no longer random variable. Therefore, <br>\n",
    "$\\qquad\\qquad = \\mathbb{E}_{\\mathbf{x},\\mathbf{y}}[\\mathbf{x}\\mathbf{y^\\top} - \\mathbf{x}\\mathbb{E}_\\mathbf{y}[\\mathbf{y^\\top}] - \\mathbb{E}_\\mathbf{x}[\\mathbf{x}]\\mathbf{y^\\top} + \\mathbb{E}_\\mathbf{x}[\\mathbf{x}]\\mathbb{E}_\\mathbf{y}[\\mathbf{y^\\top}]]$ <br><br>\n",
    "$\\qquad\\qquad = \\mathbb{E}_{\\mathbf{x},\\mathbf{y}}[\\mathbf{x}\\mathbf{y^\\top}] - \\mathbb{E}_{\\mathbf{x},\\mathbf{y}}[\\mathbf{x}\\mathbb{E}_\\mathbf{y}[\\mathbf{y^\\top}]] - \\mathbb{E}_{\\mathbf{x},\\mathbf{y}}[\\mathbb{E}_\\mathbf{x}[\\mathbf{x}]\\mathbf{y^\\top}] + \\mathbb{E}_{\\mathbf{x},\\mathbf{y}}[\\mathbb{E}_\\mathbf{x}[\\mathbf{x}]\\mathbb{E}_\\mathbf{y}[\\mathbf{y^\\top}]]$ <br><br>\n",
    "\n",
    "(1) $\\mathbb{E}_{\\mathbf{x},\\mathbf{y}}[\\mathbf{x}\\mathbf{y^\\top}] = \\mathbb{E}[\\left[\\begin{array}{rrr}{\\mathbf{x}_1\\mathbf{y}_1} & {\\mathbf{x}_1\\mathbf{y}_2} \\\\ {\\mathbf{x}_2\\mathbf{y}_1} & \\mathbf{x}_2\\mathbf{y}_2 \\end{array} \\right]] \\text{ [note: if }\\mathbb{E}[\\mathbf{X}] = \\frac{1}{2} \\text{ then } \\mathbb{E}\\left[\\begin{array}{rrr}{\\mathbf{X}_1} \\\\ {\\mathbf{X}_2} \\end{array}\\right] = \\left[\\begin{array}{rrr}{\\mathbb{E}[\\mathbf{X}_1]} \\\\ {\\mathbb{E}[\\mathbf{X}_2]} \\end{array}\\right] = \\left[\\begin{array}{rrr}{\\frac{1}{2}} \\\\ {\\frac{1}{2}} \\end{array}\\right]]$ <br><br>\n",
    "(2) $\\mathbb{E}_{\\mathbf{x},\\mathbf{y}}[\\mathbf{x}\\mathbb{E}_\\mathbf{y}[\\mathbf{y^\\top}]] = \\mathbb{E}[\\mathbf{x}]\\mathbb{E}[\\mathbf{y^\\top}]$ <br><br>\n",
    "(3) $\\mathbb{E}_{\\mathbf{x},\\mathbf{y}}[\\mathbb{E}_\\mathbf{x}[\\mathbf{x}]\\mathbf{y^\\top}] = \\mathbb{E}[\\mathbf{x}]\\mathbb{E}[\\mathbf{y^\\top}]$ <br><br>\n",
    "\n",
    "$\\qquad\\qquad = \\mathbb{E}_{\\mathbf{x},\\mathbf{y}}[\\mathbf{x}\\mathbf{y^\\top}] - \\mathbb{E}_\\mathbf{x}[\\mathbf{x}]\\mathbb{E}_\\mathbf{y}[\\mathbf{y^\\top}]$ <br><br>\n",
    "$\\qquad\\qquad = \\left[\\begin{array}{rrr}{Cov(\\mathbf{x}_1\\mathbf{y}_1)} & {Cov({\\mathbf{x}_1\\mathbf{y}_2})} \\\\ {Cov({\\mathbf{x}_2\\mathbf{y}_1})} & {Cov(\\mathbf{x}_2\\mathbf{y}_2)} \\end{array}\\right]$ <br>"
   ]
  },
  {
   "cell_type": "markdown",
   "metadata": {},
   "source": [
    "### Key notes:\n",
    "For two random variable $\\mathbf{x} \\text{ and } \\mathbf{y}$, $-1 \\leq Cov(\\mathbf{x},\\mathbf{y}) = \\frac{Cov(x,y)}{\\sqrt{Var(\\mathbf{x})Var(\\mathbf{y})}} \\leq 1$, <br><br>\n",
    "$Cov(\\mathbf{x},\\mathbf{y}) = \\left[\\begin{array}{rrr}{Cov(\\mathbf{x}_1\\mathbf{y}_1)} & {Cov({\\mathbf{x}_1\\mathbf{y}_2})} \\\\ {Cov({\\mathbf{x}_2\\mathbf{y}_1})} & {Cov(\\mathbf{x}_2\\mathbf{y}_2)} \\end{array}\\right]  = \\mathbb{E}_{\\mathbf{x},\\mathbf{y}}[(\\mathbf{x}-\\mathbb{E}_\\mathbf{x}[\\mathbf{X}])(\\mathbf{y^\\top}-\\mathbb{E}_\\mathbf{y}[\\mathbf{y^\\top}])]$"
   ]
  },
  {
   "cell_type": "markdown",
   "metadata": {},
   "source": [
    "### Compute covariance for vectors"
   ]
  },
  {
   "cell_type": "markdown",
   "metadata": {},
   "source": [
    "if $\\mathbf{x} = [1, 2, 3], \\mathbf{y} = [2, 3, 1]$, then $\\mathbf{x}\\mathbf{y}^\\top=11 \\text{(scalar)}$, $\\mathbb{E}[\\mathbf{x}\\mathbf{y}^\\top]=11 \\text{(scalar)}$ <br>\n",
    "if $\\mathbf{x} =\\left[\\begin{array}{rrr}{{1} \\\\ {2} \\\\ {3}} \\end{array}\\right]$, $\\mathbf{y} =\\left[\\begin{array}{rrr}{{2} \\\\ {3} \\\\ {1}} \\end{array}\\right]$, then $\\mathbf{x}\\mathbf{y}^\\top = \\left[\\begin{array}{rrr}{2} & {3} & {1} \\\\ {4} & {6} & {2} \\\\ {6} & {9} & {3} \\end{array}\\right] (3 \\times 3 \\text{ matrix})$"
   ]
  },
  {
   "cell_type": "code",
   "execution_count": 10,
   "metadata": {},
   "outputs": [
    {
     "data": {
      "text/plain": [
       "array([[2, 3, 1],\n",
       "       [4, 6, 2],\n",
       "       [6, 9, 3]])"
      ]
     },
     "execution_count": 10,
     "metadata": {},
     "output_type": "execute_result"
    }
   ],
   "source": [
    "x = [[1],[2],[3]]\n",
    "y = [[2],[3],[1]]\n",
    "xy = np.matmul(x,np.transpose(y))\n",
    "xy"
   ]
  },
  {
   "cell_type": "markdown",
   "metadata": {},
   "source": [
    "### Exercise\n",
    "$S_\\mathbf{x} = [[x_1 = 3, x_2 = 2], [x_1 = -1, x_2 = -2], [x_1 = 1, x_2 = 2]]$ <br>\n",
    "$S_\\mathbf{y} = [[y_1 = 2, y_2 = 3], [y_1 = -4, y_2 = -5], [y_1 = 2, y_2 = 3]]$ <br><br>\n",
    "\n",
    "$\\mathbb{E}[\\mathbf{X}_1] = \\bar\\mu\\mathbf{x}_1 = 1$, $\\mathbb{E}[\\mathbf{X}_2] = \\bar\\mu\\mathbf{x}_2 = \\frac{2}{3}$, $\\mathbb{E}[\\mathbf{Y}_1] = \\bar\\mu\\mathbf{y}_1 = 0$, $\\mathbb{E}[\\mathbf{Y}_2] = \\bar\\mu\\mathbf{y}_2 = \\frac{1}{3}$ <br>\n",
    "$Cov(\\mathbf{x},\\mathbf{y}) = ?$"
   ]
  }
 ],
 "metadata": {
  "kernelspec": {
   "display_name": "Python 3",
   "language": "python",
   "name": "python3"
  },
  "language_info": {
   "codemirror_mode": {
    "name": "ipython",
    "version": 3
   },
   "file_extension": ".py",
   "mimetype": "text/x-python",
   "name": "python",
   "nbconvert_exporter": "python",
   "pygments_lexer": "ipython3",
   "version": "3.7.7"
  }
 },
 "nbformat": 4,
 "nbformat_minor": 4
}
