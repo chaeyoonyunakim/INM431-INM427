{
 "cells": [
  {
   "cell_type": "code",
   "execution_count": 11,
   "metadata": {},
   "outputs": [],
   "source": [
    "#Name: Chaeyoon Kim\n",
    "#City Email: Chaeyoon.Kim@city.ac.uk\n",
    "#Chris Bishop, \"Pattern Recognition and Machine Learning\", Springer, 2006 (https://g.co/kgs/CsLSX8)\n",
    "\n",
    "import numpy as np"
   ]
  },
  {
   "cell_type": "markdown",
   "metadata": {},
   "source": [
    "# Intro"
   ]
  },
  {
   "cell_type": "markdown",
   "metadata": {},
   "source": [
    "Let $\\mathbf{X}$ be a Random Variable that tells you the side of a coin,\n",
    "$R_{\\mathbf{x}} = \\left\\{\\text{Heads}, \\text{Tails} \\right\\}$\n",
    "\n",
    "The proability of all possible values $P_{\\mathbf{x}} =\\left\\{\\begin{array}{rl}{0.5} & {\\text{ if } x=Heads} \\\\ {0.5} & {\\text{ if } x=Tails} \\end{array}\\right\\}$"
   ]
  },
  {
   "cell_type": "markdown",
   "metadata": {},
   "source": [
    "Let $\\mathbf{X}$ be a Random Variable that tells you the side of two coins,\n",
    "$R_{\\mathbf{x}} = \\left\\{\\left(\\begin{array}{l} {T} \\\\ {T}\\end{array}\\right), \\left(\\begin{array}{l} {T} \\\\ {H}\\end{array}\\right), \\left(\\begin{array}{l} {H} \\\\ {T}\\end{array}\\right), \\left(\\begin{array}{l} {H} \\\\ {H}\\end{array}\\right)\\right\\}$\n",
    "\n",
    "The proability of all possible values $P_{\\mathbf{x}} = \\left\\{0.25, 0.25, 0.25, 0.25\\right\\}$"
   ]
  },
  {
   "cell_type": "markdown",
   "metadata": {},
   "source": [
    "Let $\\mathbf{X}$ be a Random Variable which is the winner of the 2020 presidential election. The possible values that random value can take, $R_{\\mathbf{x}} = \\left\\{ A, B \\right\\}$\n",
    "\n",
    "The proability of all possible values $P_{\\mathbf{x}} =\\left\\{\\begin{array}{rl}{0.1} & {\\text{ if } x=A} \\\\ {0.9} & {\\text{ if } x=B} \\end{array}\\right\\}$"
   ]
  },
  {
   "cell_type": "markdown",
   "metadata": {},
   "source": [
    "Let $\\mathbf{X}$ be a Random Variable to answer 'Is it going to rain on Wednesday?'. The range of values R.V X can take, $R_{\\mathbf{x}} = \\left\\{ \\text{rain}, \\text{sunny}, \\text{snow} \\right\\}$\n",
    "\n",
    "The proability of all possible values $P_{\\mathbf{x}} =\\left\\{\\begin{array}{rl}{0.3} & {\\text{ for } x=rain} \\\\ {0.3} & {\\text{ for } x=sunny} \\\\ {0.4} & {\\text{ for } x=snow} \\end{array}\\right\\}$"
   ]
  },
  {
   "cell_type": "markdown",
   "metadata": {},
   "source": [
    "$\\mathbb{E}[\\mathbf{X}] = \\sum_{x \\in R_{\\mathbf{x}}}{xP_{\\mathbf{x}}(x)} = \\sum_{x \\in {1,2,3}}{P({\\mathbf{X}}=x)} = P({\\mathbf{x}}=1)+P({\\mathbf{x}}=2)+P({\\mathbf{x}}=3)=0.3+0.3+0.4 = 1$"
   ]
  },
  {
   "cell_type": "markdown",
   "metadata": {},
   "source": [
    "# Expectations"
   ]
  },
  {
   "cell_type": "markdown",
   "metadata": {},
   "source": [
    "Suppose $X=\\left\\{1, 2, 2, 3, 3, 3\\right\\}$. The average value of some function $f(x)$ under a probability distribution $p(x)$ is called the expectation of $f(x)$ and denoted by $\\mathbb{E}[f]$. The weighted averages of functions, $\\mathbb{E}[\\mathbf{X}] = 1\\times\\frac{3}{6}+2\\times\\frac{2}{6}+3\\times\\frac{1}{6}=1.3$"
   ]
  },
  {
   "cell_type": "markdown",
   "metadata": {},
   "source": [
    "All distributions satisfy the definition of Expectation($\\mathbb{E}$) which directs linearity, <br>\n",
    "$g:\\mathbb{R} \\rightarrow \\mathbb{R}$, $g$ is linear if the following two axioms hold: <br>\n",
    "(1) for $g({\\lambda}x) \\text{ where } \\lambda\\in\\mathbb{R}, g({\\lambda}x)={\\lambda}{g(x)}$ <br>\n",
    "(2) for $a, b \\in \\mathbb{R}$, $g(a+b) = g(a) + g(b)$"
   ]
  },
  {
   "cell_type": "markdown",
   "metadata": {},
   "source": [
    "By definition, the Expectation($\\mathbb{E}[\\mathbf{X}]$) is linear with two axioms of linearity: <br>\n",
    "(1) $\\mathbb{E}[\\lambda\\mathbf{X}]= \\sum_{x \\in \\mathbb{R}_\\mathbf{x}}{\\lambda}{x}{P_{\\mathbf{x}}(x)} = {\\lambda}\\sum_{x \\in \\mathbb{R}_\\mathbf{x}}{x}{P_{\\mathbf{x}}(x)} = \\lambda\\mathbb{E}[\\mathbf{X}]$ <br>\n",
    "(2) $\\mathbb{E}[x+y] = \\sum_{x,y \\in \\mathbb{R}_\\mathbf{x},\\mathbb{R}_\\mathbf{y}}(x+y){P_{\\mathbf{x},\\mathbf{y}}(x+y)} = \\sum_{x,y \\in \\mathbb{R}_\\mathbf{x},\\mathbb{R}_\\mathbf{y}}{xP_{\\mathbf{x}}(x)}+{yP_{\\mathbf{y}}(y)} = \\sum_{x \\in \\mathbb{R}_\\mathbf{x}}{x}{P_{\\mathbf{x}}(x)}$ + $\\sum_{y \\in \\mathbb{R}_\\mathbf{y}}{y}{P_{\\mathbf{y}}(y)} = {\\mathbb{E}[x]}+{\\mathbb{E}[y]}$"
   ]
  },
  {
   "cell_type": "markdown",
   "metadata": {},
   "source": [
    "# Covariances"
   ]
  },
  {
   "cell_type": "markdown",
   "metadata": {},
   "source": [
    "with respect to probability, <br>\n",
    "$Cov(\\mathbf{x},\\mathbf{y}) = \\mathbb{E}_{\\mathbf{x},\\mathbf{y}}[(\\mathbf{x}-\\mathbb{E}_\\mathbf{x}[\\mathbf{X}])(\\mathbf{y^\\top}-\\mathbb{E}_\\mathbf{y}[\\mathbf{y^\\top}])]$ <br><br>\n",
    "Once I get Expectation, it is no longer random variable. Therefore, <br>\n",
    "$\\qquad\\qquad = \\mathbb{E}_{\\mathbf{x},\\mathbf{y}}[\\mathbf{x}\\mathbf{y^\\top} - \\mathbf{x}\\mathbb{E}_\\mathbf{y}[\\mathbf{y^\\top}] - \\mathbb{E}_\\mathbf{x}[\\mathbf{x}]\\mathbf{y^\\top} + \\mathbb{E}_\\mathbf{x}[\\mathbf{x}]\\mathbb{E}_\\mathbf{y}[\\mathbf{y^\\top}]]$ <br><br>\n",
    "$\\qquad\\qquad = \\mathbb{E}_{\\mathbf{x},\\mathbf{y}}[\\mathbf{x}\\mathbf{y^\\top}] - \\mathbb{E}_{\\mathbf{x},\\mathbf{y}}[\\mathbf{x}\\mathbb{E}_\\mathbf{y}[\\mathbf{y^\\top}]] - \\mathbb{E}_{\\mathbf{x},\\mathbf{y}}[\\mathbb{E}_\\mathbf{x}[\\mathbf{x}]\\mathbf{y^\\top}] + \\mathbb{E}_{\\mathbf{x},\\mathbf{y}}[\\mathbb{E}_\\mathbf{x}[\\mathbf{x}]\\mathbb{E}_\\mathbf{y}[\\mathbf{y^\\top}]]$ <br><br>\n",
    "\n",
    "(1) $\\mathbb{E}_{\\mathbf{x},\\mathbf{y}}[\\mathbf{x}\\mathbf{y^\\top}] = \\mathbb{E}[\\left[\\begin{array}{rrr}{\\mathbf{x}_1\\mathbf{y}_1} & {\\mathbf{x}_1\\mathbf{y}_2} \\\\ {\\mathbf{x}_2\\mathbf{y}_1} & \\mathbf{x}_2\\mathbf{y}_2 \\end{array} \\right]] \\text{ [note: if }\\mathbb{E}[\\mathbf{X}] = \\frac{1}{2} \\text{ then } \\mathbb{E}\\left[\\begin{array}{rrr}{\\mathbf{X}_1} \\\\ {\\mathbf{X}_2} \\end{array}\\right] = \\left[\\begin{array}{rrr}{\\mathbb{E}[\\mathbf{X}_1]} \\\\ {\\mathbb{E}[\\mathbf{X}_2]} \\end{array}\\right] = \\left[\\begin{array}{rrr}{\\frac{1}{2}} \\\\ {\\frac{1}{2}} \\end{array}\\right]]$<br>\n",
    "(2) $\\mathbb{E}_{\\mathbf{x},\\mathbf{y}}[\\mathbf{x}\\mathbb{E}_\\mathbf{y}[\\mathbf{y^\\top}]] = \\mathbb{E}[\\mathbf{x}]\\mathbb{E}[\\mathbf{y^\\top}]$ <br>\n",
    "(3) $\\mathbb{E}_{\\mathbf{x},\\mathbf{y}}[\\mathbb{E}_\\mathbf{x}[\\mathbf{x}]\\mathbf{y^\\top}] = \\mathbb{E}[\\mathbf{x}]\\mathbb{E}[\\mathbf{y^\\top}]$ <br><br>\n",
    "\n",
    "$\\qquad\\qquad = \\mathbb{E}_{\\mathbf{x},\\mathbf{y}}[\\mathbf{x}\\mathbf{y^\\top}] - \\mathbb{E}_\\mathbf{x}[\\mathbf{x}]\\mathbb{E}_\\mathbf{y}[\\mathbf{y^\\top}]$"
   ]
  },
  {
   "cell_type": "markdown",
   "metadata": {},
   "source": [
    "For two random variable $\\mathbf{x} \\text{ and } \\mathbf{y}$, $-1 \\leq Cov(\\mathbf{x},\\mathbf{y}) = \\frac{Cov(x,y)}{\\sqrt{Var(\\mathbf{x})Var(\\mathbf{y})}} \\leq 1$"
   ]
  },
  {
   "cell_type": "markdown",
   "metadata": {},
   "source": [
    "$Cov(\\mathbf{x},\\mathbf{y}) $=$ \\left[\\begin{array}{rrr}{Cov(\\mathbf{x}_1\\mathbf{y}_1)} & {Cov({\\mathbf{x}_1\\mathbf{y}_2})} \\\\ {Cov({\\mathbf{x}_2\\mathbf{y}_1})} & {Cov(\\mathbf{x}_2\\mathbf{y}_2)} \\end{array}\\right]  = \\mathbb{E}_{\\mathbf{x},\\mathbf{y}}[(\\mathbf{x}-\\mathbb{E}_\\mathbf{x}[\\mathbf{X}])(\\mathbf{y^\\top}-\\mathbb{E}_\\mathbf{y}[\\mathbf{y^\\top}])]$"
   ]
  },
  {
   "cell_type": "markdown",
   "metadata": {},
   "source": [
    "## compute covariance for vectors"
   ]
  },
  {
   "cell_type": "markdown",
   "metadata": {},
   "source": [
    "if $\\mathbf{x} = [1, 2, 3], \\mathbf{y} = [2, 3, 1]$, then $\\mathbf{x}\\mathbf{y}^\\top=11 \\text{(scalar)}$, $\\mathbb{E}[\\mathbf{x}\\mathbf{y}^\\top]=11 \\text{(scalar)}$ <br>\n",
    "if $\\mathbf{x} =\\left[\\begin{array}{rrr}{{1} \\\\ {2} \\\\ {3}} \\end{array}\\right]$, $\\mathbf{y} =\\left[\\begin{array}{rrr}{{2} \\\\ {3} \\\\ {1}} \\end{array}\\right]$, then $\\mathbf{x}\\mathbf{y}^\\top = \\left[\\begin{array}{rrr}{2} & {3} & {1} \\\\ {4} & {6} & {2} \\\\ {6} & {9} & {3} \\end{array}\\right] (3 \\times 3 \\text{ matrix})$"
   ]
  },
  {
   "cell_type": "code",
   "execution_count": 10,
   "metadata": {},
   "outputs": [
    {
     "data": {
      "text/plain": [
       "array([[2, 3, 1],\n",
       "       [4, 6, 2],\n",
       "       [6, 9, 3]])"
      ]
     },
     "execution_count": 10,
     "metadata": {},
     "output_type": "execute_result"
    }
   ],
   "source": [
    "x = [[1],[2],[3]]\n",
    "y = [[2],[3],[1]]\n",
    "xy = np.matmul(x,np.transpose(y))\n",
    "xy"
   ]
  }
 ],
 "metadata": {
  "kernelspec": {
   "display_name": "Python 3",
   "language": "python",
   "name": "python3"
  },
  "language_info": {
   "codemirror_mode": {
    "name": "ipython",
    "version": 3
   },
   "file_extension": ".py",
   "mimetype": "text/x-python",
   "name": "python",
   "nbconvert_exporter": "python",
   "pygments_lexer": "ipython3",
   "version": "3.7.7"
  }
 },
 "nbformat": 4,
 "nbformat_minor": 4
}
