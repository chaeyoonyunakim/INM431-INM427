{
 "cells": [
  {
   "cell_type": "code",
   "execution_count": 1,
   "metadata": {},
   "outputs": [],
   "source": [
    "#Name: Chaeyoon Kim\n",
    "#City Email: Chaeyoon.Kim@city.ac.uk"
   ]
  },
  {
   "cell_type": "code",
   "execution_count": 2,
   "metadata": {},
   "outputs": [],
   "source": [
    "import numpy as np "
   ]
  },
  {
   "cell_type": "code",
   "execution_count": 3,
   "metadata": {},
   "outputs": [],
   "source": [
    "X = np.array(\n",
    "[\n",
    "    (0.7, 0.3, 1),\n",
    "    (0.4, 0.5, 1),\n",
    "    (0.6, 0.9, 1),\n",
    "    (0.2, 0.2, 1)\n",
    "]\n",
    ")\n",
    "\n",
    "y = np.array(\n",
    "[\n",
    "    1,\n",
    "    1,\n",
    "    1,\n",
    "    -1\n",
    "])\n",
    "\n",
    "w = np.array([-0.5, 0.3, -0.2])"
   ]
  },
  {
   "cell_type": "code",
   "execution_count": 4,
   "metadata": {},
   "outputs": [],
   "source": [
    "def activation(x):\n",
    "    if x < 0:\n",
    "        return -1\n",
    "    else:\n",
    "        return 1\n",
    "    \n",
    "def prediction(w, x):\n",
    "    out = activation(np.dot(w, x))\n",
    "    return out"
   ]
  },
  {
   "cell_type": "code",
   "execution_count": 5,
   "metadata": {},
   "outputs": [
    {
     "data": {
      "text/plain": [
       "-1"
      ]
     },
     "execution_count": 5,
     "metadata": {},
     "output_type": "execute_result"
    }
   ],
   "source": [
    "prediction(w, np.array([1,2, 1]))"
   ]
  },
  {
   "cell_type": "code",
   "execution_count": 6,
   "metadata": {},
   "outputs": [
    {
     "data": {
      "text/plain": [
       "[0, 1, 2]"
      ]
     },
     "execution_count": 6,
     "metadata": {},
     "output_type": "execute_result"
    }
   ],
   "source": [
    "# update w\n",
    "X, y\n",
    "\n",
    "X[1], y[1]\n",
    "\n",
    "y[1] == prediction(w, X[1])\n",
    "\n",
    "result = []\n",
    "for index in range(X.shape[0]):\n",
    "    if y[index] != prediction(w, X[index]):\n",
    "        result.append(index)\n",
    "result"
   ]
  },
  {
   "cell_type": "code",
   "execution_count": 7,
   "metadata": {},
   "outputs": [],
   "source": [
    "learning_rate = 0.1\n",
    "result = []\n",
    "for index in range(X.shape[0]):\n",
    "    if y[index] != prediction(w, X[index]):\n",
    "        w += learning_rate * w * y[index]"
   ]
  },
  {
   "cell_type": "code",
   "execution_count": 8,
   "metadata": {},
   "outputs": [],
   "source": [
    "def train_perceptron(learning_rate, w, data, labels):    \n",
    "    def keep_training(w, data, labels):\n",
    "        for index in range(data.shape[0]):\n",
    "            if y[index] != prediction(w, data[index]):\n",
    "                return True\n",
    "        return False\n",
    "    \n",
    "    def error_function(w, data, labels): #w is 3x1 column vector\n",
    "        incorrect_inds = []\n",
    "        for index in range(data.shape[0]): #n is a 1x3 vector\n",
    "            if labels[index] != prediction(w, data[index]):\n",
    "                incorrect_inds.append(index)\n",
    "                \n",
    "        result = 0\n",
    "        for index in incorrect_inds: #n is a 1x3 vector\n",
    "            result = np.dot(np.transpose(w), data[index]) * labels[index]\n",
    "        return -1 * result\n",
    "\n",
    "    while keep_training(w, data, labels):\n",
    "        for index in range(data.shape[0]):\n",
    "            if labels[index] != prediction(w, data[index]):\n",
    "                print(error_function(w, data, labels ))\n",
    "                w += learning_rate * data[index] * labels[index]                \n",
    "    return w"
   ]
  },
  {
   "cell_type": "code",
   "execution_count": 9,
   "metadata": {},
   "outputs": [
    {
     "name": "stdout",
     "output_type": "stream",
     "text": [
      "0.3061300000000001\n",
      "0.13713000000000017\n",
      "0.048750000000000154\n",
      "0.03855999999999993\n",
      "0.02375000000000016\n",
      "0.05055999999999994\n",
      "0.2352600000000001\n",
      "0.06255999999999994\n",
      "0.19726000000000013\n",
      "0.07455999999999993\n",
      "0.15926000000000012\n",
      "0.08655999999999994\n",
      "0.12126000000000015\n",
      "0.09855999999999993\n",
      "0.08326000000000014\n",
      "0.11055999999999994\n",
      "0.0025599999999999234\n",
      "0.12255999999999993\n",
      "0.01455999999999992\n",
      "0.13455999999999993\n",
      "0.026559999999999917\n",
      "0.08926000000000019\n",
      "0.038559999999999914\n",
      "0.051260000000000194\n",
      "0.050559999999999924\n",
      "0.013260000000000188\n",
      "0.06255999999999992\n"
     ]
    },
    {
     "data": {
      "text/plain": [
       "array([ 0.0245,  0.5793, -0.1662])"
      ]
     },
     "execution_count": 9,
     "metadata": {},
     "output_type": "execute_result"
    }
   ],
   "source": [
    "train_perceptron(learning_rate, w, X, y)"
   ]
  }
 ],
 "metadata": {
  "kernelspec": {
   "display_name": "Python 3",
   "language": "python",
   "name": "python3"
  },
  "language_info": {
   "codemirror_mode": {
    "name": "ipython",
    "version": 3
   },
   "file_extension": ".py",
   "mimetype": "text/x-python",
   "name": "python",
   "nbconvert_exporter": "python",
   "pygments_lexer": "ipython3",
   "version": "3.8.5"
  }
 },
 "nbformat": 4,
 "nbformat_minor": 4
}
