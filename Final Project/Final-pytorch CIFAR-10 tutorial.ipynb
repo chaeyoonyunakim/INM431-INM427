{
 "cells": [
  {
   "cell_type": "code",
   "execution_count": 1,
   "metadata": {},
   "outputs": [],
   "source": [
    "# import packages\n",
    "import numpy as np\n",
    "\n",
    "import seaborn as sns\n",
    "import matplotlib.pyplot as plt\n",
    "%matplotlib inline\n",
    "from matplotlib import markers\n",
    "from collections import OrderedDict\n",
    "from itertools import cycle\n",
    "\n",
    "from sklearn.decomposition import PCA\n",
    "from sklearn.svm import SVC\n",
    "from sklearn.metrics import confusion_matrix\n",
    "from sklearn.metrics import plot_confusion_matrix\n",
    "from sklearn.metrics import precision_recall_fscore_support\n",
    "from sklearn.metrics import roc_curve\n",
    "from sklearn.metrics import roc_auc_score\n",
    "from sklearn.model_selection import cross_val_score\n",
    "import time\n",
    "\n",
    "import torch\n",
    "import torchvision\n",
    "import torchvision.transforms as transforms\n",
    "import torch.nn as nn\n",
    "import torch.nn.functional as F\n",
    "import torch.optim as optim\n",
    "from torch.utils.data import random_split\n",
    "from torchvision.utils import make_grid"
   ]
  },
  {
   "cell_type": "code",
   "execution_count": 2,
   "metadata": {},
   "outputs": [],
   "source": [
    "torch.manual_seed(20210412)\n",
    "np.random.seed(20210412)"
   ]
  },
  {
   "cell_type": "markdown",
   "metadata": {},
   "source": [
    "by following the [pytorch CIFAR10 tutorial](https://pytorch.org/tutorials/beginner/blitz/cifar10_tutorial.html)"
   ]
  },
  {
   "cell_type": "markdown",
   "metadata": {},
   "source": [
    "# 1. Data Loading & Manipulation"
   ]
  },
  {
   "cell_type": "markdown",
   "metadata": {},
   "source": [
    "***The CIFAR-10 dataset***\n",
    "collected by Alex Krizhevsky, Vinod Nair, and Geoffrey Hinton from the University of Toronto. This dataset consists of 60000 32x32 colour images in 10 classes, with 6000 images per class. Each image is a 3-channel colour images of 32x32 pixels in size. There are 50000 training images and 10000 test images."
   ]
  },
  {
   "cell_type": "markdown",
   "metadata": {},
   "source": [
    "### Download the dataset"
   ]
  },
  {
   "cell_type": "code",
   "execution_count": 3,
   "metadata": {},
   "outputs": [
    {
     "name": "stdout",
     "output_type": "stream",
     "text": [
      "Files already downloaded and verified\n",
      "Files already downloaded and verified\n"
     ]
    }
   ],
   "source": [
    "transform = transforms.Compose([transforms.ToTensor(),\n",
    "                                transforms.Normalize((0.5, 0.5, 0.5), (0.5, 0.5, 0.5))])\n",
    "\n",
    "# Load the training data\n",
    "trainset = torchvision.datasets.CIFAR10(root='./data', train=True,\n",
    "                                        download=True, transform=transform)\n",
    "trainloader = torch.utils.data.DataLoader(trainset, batch_size=len(trainset),# Load entire trainset\n",
    "                                          shuffle=True, num_workers=2)\n",
    "\n",
    "# Load the test data\n",
    "testset = torchvision.datasets.CIFAR10(root='./data', train=False,\n",
    "                                       download=True, transform=transform)\n",
    "testloader = torch.utils.data.DataLoader(testset, batch_size=len(testset), # Load entire testset\n",
    "                                         shuffle=False, num_workers=2)\n",
    "classes = ('plane', 'car', 'bird', 'cat', 'deer', 'dog', 'frog', 'horse', 'ship', 'truck') "
   ]
  },
  {
   "cell_type": "code",
   "execution_count": 4,
   "metadata": {},
   "outputs": [
    {
     "data": {
      "text/plain": [
       "torch.Size([3, 32, 32])"
      ]
     },
     "execution_count": 4,
     "metadata": {},
     "output_type": "execute_result"
    }
   ],
   "source": [
    "img, label = trainset[0]\n",
    "img_shape = img.shape\n",
    "img_shape"
   ]
  },
  {
   "cell_type": "code",
   "execution_count": 5,
   "metadata": {},
   "outputs": [
    {
     "name": "stderr",
     "output_type": "stream",
     "text": [
      "Clipping input data to the valid range for imshow with RGB data ([0..1] for floats or [0..255] for integers).\n"
     ]
    },
    {
     "name": "stdout",
     "output_type": "stream",
     "text": [
      "6 frog\n"
     ]
    },
    {
     "data": {
      "image/png": "[encoded data removed]",
      "text/plain": [
       "<Figure size 432x288 with 1 Axes>"
      ]
     },
     "metadata": {
      "needs_background": "light"
     },
     "output_type": "display_data"
    }
   ],
   "source": [
    "plt.imshow(img.permute((1, 2, 0)))\n",
    "print(label, classes[label])"
   ]
  },
  {
   "cell_type": "markdown",
   "metadata": {},
   "source": [
    "### Pre-processing for SVM"
   ]
  },
  {
   "cell_type": "code",
   "execution_count": 6,
   "metadata": {},
   "outputs": [],
   "source": [
    "# trainset\n",
    "# convert tensor data(image, label) into numpy array\n",
    "train_dataset_array, train_dataset_targets =  next(iter(trainloader)) # get a single batch from a trainloader\n",
    "train_dataset_array = train_dataset_array.numpy()\n",
    "train_dataset_targets = train_dataset_targets.numpy()\n",
    "\n",
    "# testset\n",
    "# convert tensor data(label) into numpy array\n",
    "test_dataset_array, test_dataset_targets =  next(iter(testloader))\n",
    "test_dataset_array = test_dataset_array.numpy()\n",
    "test_dataset_targets = test_dataset_targets.numpy()"
   ]
  },
  {
   "cell_type": "code",
   "execution_count": 7,
   "metadata": {},
   "outputs": [],
   "source": [
    "# Preprocessing for SVM\n",
    "d_image, h_image, w_image = train_dataset_array.shape[1:] # (3, 32, 32)->depth(=color) 3*height 32*width 32=3072\n",
    "X_Train = train_dataset_array.reshape((train_dataset_array.shape[0], d_image*h_image*w_image))\n",
    "\n",
    "d_image, h_image, w_image = test_dataset_array.shape[1:] # (3, 32, 32)->3*32*32=3072\n",
    "X_Test = test_dataset_array.reshape((test_dataset_array.shape[0], d_image*h_image*w_image))"
   ]
  },
  {
   "cell_type": "markdown",
   "metadata": {},
   "source": [
    "# 2. Initial Data Analysis"
   ]
  },
  {
   "cell_type": "markdown",
   "metadata": {},
   "source": [
    "### Extract a subset with only two classes: Cat(3), Dog(5) for quick overview"
   ]
  },
  {
   "cell_type": "code",
   "execution_count": 8,
   "metadata": {},
   "outputs": [],
   "source": [
    "cat_dog_train = train_dataset_array[np.where((train_dataset_targets == 3) | (train_dataset_targets == 5))]\n",
    "cat_dog_train_targets = train_dataset_targets[np.where((train_dataset_targets == 3) | (train_dataset_targets == 5))]\n",
    "\n",
    "cat_dog_test = test_dataset_array[np.where((test_dataset_targets == 3) | (test_dataset_targets == 5))]\n",
    "cat_dog_test_targets = test_dataset_targets[np.where((test_dataset_targets == 3) | (test_dataset_targets == 5))]"
   ]
  },
  {
   "cell_type": "code",
   "execution_count": 9,
   "metadata": {},
   "outputs": [],
   "source": [
    "# Preprocessing for PCA\n",
    "d_catDog, h_catDog, w_catDog = cat_dog_train.shape[1:] # (3, 32, 32)->depth(=color) 3*height 32*width 32=3072\n",
    "cat_dog_train_reshape = cat_dog_train.reshape((cat_dog_train.shape[0], d_catDog*h_catDog*w_catDog)) # (10000, 3072)\n",
    "\n",
    "d_catDog, h_catDog, w_catDog = cat_dog_test.shape[1:] # (3, 32, 32)->3*32*32=3072\n",
    "cat_dog_test_reshape = cat_dog_test.reshape((cat_dog_test.shape[0], d_catDog*h_catDog*w_catDog)) # (2000, 3072)"
   ]
  },
  {
   "cell_type": "code",
   "execution_count": 10,
   "metadata": {},
   "outputs": [],
   "source": [
    "# Apply PCA on the training set to reduce the dimensionality.\n",
    "\n",
    "pca_obs = [] # store 7 values(𝑘1,𝑘2,...,𝑘7) in a list\n",
    "\n",
    "for i in range(7):\n",
    "    no_components = 3 *(i+1)*(i+1) # squared values from 1 to 7\n",
    "    pca_obs.append(PCA(n_components = no_components, svd_solver='randomized', whiten=True).fit(cat_dog_train_reshape))"
   ]
  },
  {
   "cell_type": "code",
   "execution_count": 11,
   "metadata": {},
   "outputs": [
    {
     "data": {
      "text/plain": [
       "Text(0.5, 0, 'Principle component number')"
      ]
     },
     "execution_count": 11,
     "metadata": {},
     "output_type": "execute_result"
    },
    {
     "data": {
      "image/png": "[encoded data removed]",
      "text/plain": [
       "<Figure size 432x288 with 1 Axes>"
      ]
     },
     "metadata": {
      "needs_background": "light"
     },
     "output_type": "display_data"
    }
   ],
   "source": [
    "# Plot cumulative variance\n",
    "y_vals = [x.explained_variance_ratio_.sum() for x in pca_obs]\n",
    "x_vals = [x.n_components for x in pca_obs]\n",
    "plt.plot(x_vals, y_vals)\n",
    "plt.title('Cumulative variance of principal components')\n",
    "plt.xlabel('Principle component number')  "
   ]
  },
  {
   "cell_type": "code",
   "execution_count": 12,
   "metadata": {},
   "outputs": [
    {
     "name": "stdout",
     "output_type": "stream",
     "text": [
      "Accuracy: 57.65 %\n",
      "Standard Deviation: 1.13 %\n",
      "Accuracy: 59.10 %\n",
      "Standard Deviation: 1.72 %\n",
      "Accuracy: 59.64 %\n",
      "Standard Deviation: 1.01 %\n",
      "Accuracy: 59.88 %\n",
      "Standard Deviation: 1.06 %\n",
      "Accuracy: 59.90 %\n",
      "Standard Deviation: 0.93 %\n",
      "Accuracy: 60.08 %\n",
      "Standard Deviation: 1.30 %\n",
      "Accuracy: 60.71 %\n",
      "Standard Deviation: 1.58 %\n"
     ]
    }
   ],
   "source": [
    "SVM_training_time = []\n",
    "SVM_test_time = []\n",
    "SVM_train_acc = []\n",
    "SVM_test_acc = []\n",
    "SVM_fpr = []\n",
    "SVM_tpr = []\n",
    "\n",
    "classifier = SVC(kernel = 'linear', random_state = 0, probability=True)\n",
    "\n",
    "for i in range(7): # seven on PCA features with seven different dimension\n",
    "    pca_obj = pca_obs[i]\n",
    "    pca_train = pca_obj.transform(cat_dog_train_reshape)\n",
    "    pca_test = pca_obj.transform(cat_dog_test_reshape)\n",
    "\n",
    "    t0 = time.time()\n",
    "    model = classifier.fit(pca_train, cat_dog_train_targets) # SVM\n",
    "    t1 = time.time() - t0\n",
    "    SVM_training_time.append(t1)\n",
    "\n",
    "    # classification accuracy\n",
    "    SVM_train_acc.append(model.score(pca_train, cat_dog_train_targets))\n",
    "    SVM_test_acc.append(model.score(pca_test, cat_dog_test_targets))\n",
    "    \n",
    "    t0 = time.time()\n",
    "    pred = model.predict(pca_test)\n",
    "    t1 = time.time() - t0\n",
    "    SVM_test_time.append(t1)\n",
    "    \n",
    "    # ROC curves\n",
    "    pred_prob = model.predict_proba(pca_test)\n",
    "    fpr, tpr, _ = roc_curve(cat_dog_test_targets, pred, pos_label=5)\n",
    "    SVM_fpr.append(fpr)\n",
    "    SVM_tpr.append(tpr)\n",
    "    \n",
    "    scores = cross_val_score(estimator = classifier, X = pca_train, y = cat_dog_train_targets, cv = 10)\n",
    "    print(\"Accuracy: {:.2f} %\".format(scores.mean()*100))\n",
    "    print(\"Standard Deviation: {:.2f} %\".format(scores.std()*100))"
   ]
  },
  {
   "cell_type": "code",
   "execution_count": 13,
   "metadata": {},
   "outputs": [
    {
     "data": {
      "text/plain": [
       "([16.74923086166382,\n",
       "  27.432911157608032,\n",
       "  66.21800208091736,\n",
       "  97.3558349609375,\n",
       "  182.519357919693,\n",
       "  245.88893914222717,\n",
       "  347.82152700424194],\n",
       " [0.15563249588012695,\n",
       "  0.19348454475402832,\n",
       "  0.45573997497558594,\n",
       "  0.8137836456298828,\n",
       "  1.3812711238861084,\n",
       "  2.032564401626587,\n",
       "  2.9790215492248535],\n",
       " [0.5779, 0.5945, 0.6029, 0.6077, 0.6131, 0.6187, 0.6299],\n",
       " [0.5815, 0.5985, 0.6105, 0.614, 0.6145, 0.6165, 0.6165])"
      ]
     },
     "execution_count": 13,
     "metadata": {},
     "output_type": "execute_result"
    }
   ],
   "source": [
    "SVM_training_time, SVM_test_time, SVM_train_acc, SVM_test_acc"
   ]
  },
  {
   "cell_type": "code",
   "execution_count": null,
   "metadata": {},
   "outputs": [],
   "source": [
    "# Visualise their performance using a bar graph.\n",
    "fig, axes = plt.subplots(nrows= 1, ncols=2, sharey=True)\n",
    "x_axis = []\n",
    "x_axis += ['PCA_'+str(x.n_components) for x in pca_obs] #x-axis label\n",
    "\n",
    "plt.ylim(0.5, 0.7)\n",
    "axes[0].set_ylabel(\"accuracy\") #y-axis label\n",
    "\n",
    "bar1 = axes[0].bar(x_axis, SVM_train_acc)\n",
    "axes[0].set_xticks(np.arange(7))\n",
    "axes[0].set_xticklabels(x_axis, rotation=90)\n",
    "axes[0].set_title(\"train\")\n",
    "axes[0].set_xlabel(\"8 classifiers\")\n",
    "for bar in bar1: # access the bar attributes to place the text in the appropriate location\n",
    "    yval = bar.get_height()\n",
    "    axes[0].text(bar.get_x(), yval + .03, round(yval, 3), rotation=90)\n",
    "    \n",
    "bar2 = axes[1].bar(x_axis, SVM_test_acc)\n",
    "axes[1].set_xticks(np.arange(7))\n",
    "axes[1].set_xticklabels(x_axis, rotation=90)\n",
    "axes[1].set_title(\"test\")\n",
    "axes[1].set_xlabel(\"8 classifiers\")\n",
    "for bar in bar2: # access the bar attributes to place the text in the appropriate location\n",
    "    yval = bar.get_height()\n",
    "    axes[1].text(bar.get_x(), yval + .03, round(yval, 3), rotation=90)"
   ]
  },
  {
   "cell_type": "code",
   "execution_count": null,
   "metadata": {},
   "outputs": [],
   "source": [
    "# Summarise total training time, and total test time\n",
    "\n",
    "fig, axes = plt.subplots(nrows =1, ncols = 2, figsize=(10,5))\n",
    "\n",
    "x_axis = ['SVM_training_time', 'SVM_test_time']\n",
    "\n",
    "axes[0].bar(x_axis, total_training_time)\n",
    "axes[0].set_title(\"SVM training time\")\n",
    "axes[0].set_xlabel(\"classifiers\")\n",
    "axes[0].set_ylabel(\"training time (s)\")\n",
    "\n",
    "axes[1].bar(x_axis, total_testing_time)\n",
    "axes[1].set_title(\"SVM testing time\")\n",
    "axes[1].set_xlabel(\"classifiers\")\n",
    "axes[1].set_ylabel(\"training time (s)\")\n",
    "\n",
    "plt.tight_layout()\n",
    "plt.show()"
   ]
  },
  {
   "cell_type": "code",
   "execution_count": 14,
   "metadata": {},
   "outputs": [
    {
     "data": {
      "text/plain": [
       "<matplotlib.legend.Legend at 0x163a4a6e730>"
      ]
     },
     "execution_count": 14,
     "metadata": {},
     "output_type": "execute_result"
    },
    {
     "data": {
      "image/png": "[encoded data removed]",
      "text/plain": [
       "<Figure size 432x288 with 1 Axes>"
      ]
     },
     "metadata": {
      "needs_background": "light"
     },
     "output_type": "display_data"
    }
   ],
   "source": [
    "# Plot ROC curves for seven SVM classifiers in CatDog dataset\n",
    "\n",
    "markers_array = markers.MarkerStyle.markers.keys()\n",
    "marker = cycle(markers_array)\n",
    "fig, axes = plt.subplots()\n",
    "x_axis = []\n",
    "x_axis += ['PCA_'+str(x.n_components) for x in pca_obs] #x-axis label\n",
    "\n",
    "for i in range(7): #using 7 different line/marker styles clearly labelled.\n",
    "    label = x_axis[i]\n",
    "    axes.plot(SVM_fpr[i], SVM_tpr[i], marker=next(marker), label=label)\n",
    "    \n",
    "axes.set_title(\"ROC curve for SVM results\")\n",
    "axes.set_xlabel(\"False Positive Rate(1-specificitiy)\")\n",
    "axes.set_ylabel(\"True Positive Rate(sensitivity)\")\n",
    "plt.legend(bbox_to_anchor=(1.0, 1.05))"
   ]
  },
  {
   "cell_type": "code",
   "execution_count": 15,
   "metadata": {},
   "outputs": [
    {
     "data": {
      "text/plain": [
       "(0.6168281703304583, 0.6165, 0.6162304978671274, None)"
      ]
     },
     "execution_count": 15,
     "metadata": {},
     "output_type": "execute_result"
    }
   ],
   "source": [
    "precision_recall_fscore_support(cat_dog_test_targets, pred, average='macro')"
   ]
  },
  {
   "cell_type": "code",
   "execution_count": 16,
   "metadata": {},
   "outputs": [
    {
     "data": {
      "text/plain": [
       "(0.6165, 0.6165, 0.6165, None)"
      ]
     },
     "execution_count": 16,
     "metadata": {},
     "output_type": "execute_result"
    }
   ],
   "source": [
    "precision_recall_fscore_support(cat_dog_test_targets, pred, average='micro')"
   ]
  },
  {
   "cell_type": "code",
   "execution_count": 17,
   "metadata": {},
   "outputs": [
    {
     "data": {
      "text/plain": [
       "<AxesSubplot:>"
      ]
     },
     "execution_count": 17,
     "metadata": {},
     "output_type": "execute_result"
    },
    {
     "data": {
      "image/png": "[encoded data removed]",
      "text/plain": [
       "<Figure size 432x288 with 2 Axes>"
      ]
     },
     "metadata": {
      "needs_background": "light"
     },
     "output_type": "display_data"
    }
   ],
   "source": [
    "target_names = ['cat', 'dog']\n",
    "sns.heatmap(confusion_matrix(cat_dog_test_targets, pred),\n",
    "             square=True, annot=True, fmt='d',\n",
    "             xticklabels = target_names, yticklabels = target_names)"
   ]
  },
  {
   "cell_type": "markdown",
   "metadata": {},
   "source": [
    "# 3. Define two neural networks\n",
    "## 3.1 SVM"
   ]
  },
  {
   "cell_type": "code",
   "execution_count": null,
   "metadata": {},
   "outputs": [],
   "source": [
    "# Train the network\n",
    "total_training_time = []\n",
    "train_accuracies = []\n",
    "\n",
    "t0 = time.time()\n",
    "\n",
    "classifier = SVC(kernel = 'linear', random_state = 0)\n",
    "model = classifier.fit(X_Train, train_dataset_targets)\n",
    "\n",
    "t1 = time.time() - t0\n",
    "total_training_time.append(t1)\n",
    "train_accuracies.append(model.score(X_train, train_dataset_targets))\n",
    "\n",
    "print('Finished Training')"
   ]
  },
  {
   "cell_type": "code",
   "execution_count": null,
   "metadata": {},
   "outputs": [],
   "source": [
    "total_testing_time = []\n",
    "test_accuracies = []\n",
    "\n",
    "t0 = time.time()\n",
    "\n",
    "pred = classifier.predict(X_Test)\n",
    "\n",
    "t1 = time.time() - t0\n",
    "total_testing_time.append(t1)\n",
    "test_accuracies.append(model.score(X_Test, test_dataset_targets))"
   ]
  },
  {
   "cell_type": "code",
   "execution_count": null,
   "metadata": {},
   "outputs": [],
   "source": [
    "precision_recall_fscore_support(test_dataset_targets, pred, average='macro')"
   ]
  },
  {
   "cell_type": "code",
   "execution_count": null,
   "metadata": {},
   "outputs": [],
   "source": [
    "precision_recall_fscore_support(test_dataset_targets, pred, average='micro')"
   ]
  },
  {
   "cell_type": "code",
   "execution_count": null,
   "metadata": {},
   "outputs": [],
   "source": [
    "target_names = ['plane', 'car', 'bird', 'cat', 'deer', 'dog', 'frog', 'horse', 'ship', 'truck']\n",
    "sns.heatmap(confusion_matrix(test_dataset_targets, pred),\n",
    "             square=True, annot=True, fmt='d',\n",
    "             xticklabels = target_names, yticklabels = target_names)"
   ]
  },
  {
   "cell_type": "markdown",
   "metadata": {},
   "source": [
    "## 3.2 MLP"
   ]
  },
  {
   "cell_type": "code",
   "execution_count": null,
   "metadata": {},
   "outputs": [],
   "source": [
    "class MLPNet(nn.Module):\n",
    "    def __init__(self):\n",
    "        super(MLPNet, self).__init__()\n",
    "        self.linear1 = nn.Linear(3 * 32 * 32, 1024)\n",
    "        self.linear2 = nn.Linear(1024, 512)\n",
    "        self.linear3 = nn.Linear(512, 64)\n",
    "        self.linear4 = nn.Linear(64, 64)\n",
    "        self.linear5 = nn.Linear(64, 10)\n",
    "        \n",
    "    def forward(self, x):\n",
    "        # Flatten images into vectors\n",
    "        x = x.view(x.size(0), -1)\n",
    "        x = self.linear1(x)\n",
    "        x = F.relu(x)\n",
    "        x = self.linear2(x)\n",
    "        x = F.relu(x)\n",
    "        x = self.linear3(x)\n",
    "        x = F.relu(x)\n",
    "        x = self.linear4(x)\n",
    "        x = F.relu(x)\n",
    "        x = self.linear5(x)        \n",
    "        return x\n",
    "\n",
    "mlpnet = MLPNet()"
   ]
  },
  {
   "cell_type": "code",
   "execution_count": null,
   "metadata": {},
   "outputs": [],
   "source": [
    "# Check CPU / GPU environment\n",
    "if torch.cuda.is_available():\n",
    "    device = torch.device(\"cuda:0\") # Training on GPU\n",
    "    print(\"GPU is available\")\n",
    "else:\n",
    "    device = torch.device(\"cpu\") # Training on CPU\n",
    "    print(\"GPU not available, CPU used\")\n",
    "    \n",
    "mlpnet = mlpnet.to(device)"
   ]
  },
  {
   "cell_type": "code",
   "execution_count": null,
   "metadata": {},
   "outputs": [],
   "source": [
    "# Define a Loss function and optimizer\n",
    "criterion = nn.CrossEntropyLoss() # Classification Cross-Entropy loss\n",
    "optimizer = optim.SGD(mlpnet.parameters(), lr=0.001, momentum=0.9) # SGD with momentum"
   ]
  },
  {
   "cell_type": "code",
   "execution_count": null,
   "metadata": {},
   "outputs": [],
   "source": [
    "train_loader = torch.utils.data.DataLoader(trainset, batch_size=4, shuffle=True, num_workers=2)"
   ]
  },
  {
   "cell_type": "code",
   "execution_count": null,
   "metadata": {},
   "outputs": [],
   "source": [
    "# Train the network\n",
    "t0 = time.time()\n",
    "\n",
    "for epoch in range(2):  # loop over the dataset multiple times\n",
    "\n",
    "    running_loss = 0.0\n",
    "    for i, data in enumerate(train_loader, 0):\n",
    "        # get the inputs; data is a list of [inputs, labels]\n",
    "        inputs, labels = data\n",
    "        inputs, labels = inputs.to(device), labels.to(device)\n",
    "\n",
    "        # zero the parameter gradients\n",
    "        optimizer.zero_grad() # zero the gradient buffers\n",
    "\n",
    "        # forward + backward + optimize\n",
    "        outputs = mlpnet(inputs)\n",
    "        loss = criterion(outputs, labels)\n",
    "        loss.backward()\n",
    "        optimizer.step() # Does the update\n",
    "\n",
    "        # print statistics\n",
    "        running_loss += loss.item()\n",
    "        if i % 2000 == 1999:    # print every 2000 mini-batches\n",
    "            print('[%d, %5d] loss: %.3f' %\n",
    "                  (epoch + 1, i + 1, running_loss / 2000))\n",
    "            running_loss = 0.0\n",
    "\n",
    "t1 = time.time() - t0\n",
    "total_training_time.append(t1)\n",
    "\n",
    "print('Finished Training')"
   ]
  },
  {
   "cell_type": "code",
   "execution_count": null,
   "metadata": {},
   "outputs": [],
   "source": [
    "all_preds = []\n",
    "\n",
    "test_loader = torch.utils.data.DataLoader(testset, batch_size=4,\n",
    "                                         shuffle=False, num_workers=2)\n",
    "\n",
    "correct = 0\n",
    "total = 0\n",
    "t0 = time.time()\n",
    "\n",
    "with torch.no_grad():\n",
    "    for data in test_loader:\n",
    "        images, labels = data\n",
    "        images, labels = images.to(device), labels.to(device)\n",
    "        outputs = mlpnet(images)\n",
    "        _, predicted = torch.max(outputs.data, 1)\n",
    "        all_preds.append(predicted)\n",
    "        total += labels.size(0)\n",
    "        correct += (predicted == labels).sum().item()\n",
    "\n",
    "t1 = time.time() - t0\n",
    "total_testing_time.append(t1)\n",
    "test_accuracies.append(correct/total)\n",
    "\n",
    "print('Accuracy of the network on the 10000 test images: %d %%' % (100 * correct / total))"
   ]
  },
  {
   "cell_type": "code",
   "execution_count": null,
   "metadata": {},
   "outputs": [],
   "source": [
    "# Show the confusion matrix\n",
    "pred = torch.squeeze(torch.cat(all_preds, 0))\n",
    "\n",
    "target_names = ['plane', 'car', 'bird', 'cat', 'deer', 'dog', 'frog', 'horse', 'ship', 'truck']\n",
    "sns.heatmap(confusion_matrix(test_dataset_targets, pred.cpu()),\n",
    "             square=True, annot=True, fmt='d',\n",
    "             xticklabels = target_names, yticklabels = target_names)"
   ]
  },
  {
   "cell_type": "code",
   "execution_count": null,
   "metadata": {},
   "outputs": [],
   "source": [
    "precision_recall_fscore_support(test_dataset_targets, pred.cpu(), average='macro')"
   ]
  },
  {
   "cell_type": "code",
   "execution_count": null,
   "metadata": {},
   "outputs": [],
   "source": [
    "precision_recall_fscore_support(test_dataset_targets, pred.cpu(), average='micro')"
   ]
  },
  {
   "cell_type": "markdown",
   "metadata": {},
   "source": [
    "## Reference: CNN\n",
    "***https://pytorch.org/tutorials/beginner/blitz/cifar10_tutorial.html***"
   ]
  },
  {
   "cell_type": "code",
   "execution_count": null,
   "metadata": {},
   "outputs": [],
   "source": [
    "# Train one Convoluational Neural Network\n",
    "# as defined in the pytorch CIFAR10 tutorial.\n",
    "\n",
    "class Net(nn.Module):\n",
    "    def __init__(self):\n",
    "        super(Net, self).__init__()\n",
    "        \n",
    "        # 3-colors image channel, 6 output channels, 5x5 square kernel\n",
    "        self.conv1 = nn.Conv2d(3, 6, 5)\n",
    "        self.pool = nn.MaxPool2d(2, 2)\n",
    "        self.conv2 = nn.Conv2d(6, 16, 5)\n",
    "        \n",
    "        # an affine operation: y = Wx + b\n",
    "        self.fc1 = nn.Linear(16 * 5 * 5, 120) # 5*5 from image dimension\n",
    "        self.fc2 = nn.Linear(120, 84)\n",
    "        self.fc3 = nn.Linear(84, 10)\n",
    "\n",
    "    def forward(self, x):\n",
    "        x = self.pool(F.relu(self.conv1(x)))\n",
    "        x = self.pool(F.relu(self.conv2(x)))\n",
    "        x = x.view(-1, 16 * 5 * 5) # transform shape\n",
    "        x = F.relu(self.fc1(x))\n",
    "        x = F.relu(self.fc2(x))\n",
    "        x = self.fc3(x)\n",
    "        return x\n",
    "\n",
    "net = Net()"
   ]
  },
  {
   "cell_type": "code",
   "execution_count": null,
   "metadata": {},
   "outputs": [],
   "source": [
    "net = net.to(device)"
   ]
  },
  {
   "cell_type": "code",
   "execution_count": null,
   "metadata": {},
   "outputs": [],
   "source": [
    "# Define a Loss function and optimizer\n",
    "criterion = nn.CrossEntropyLoss() # Classification Cross-Entropy loss\n",
    "optimizer = optim.SGD(net.parameters(), lr=0.001, momentum=0.9) # SGD with momentum"
   ]
  },
  {
   "cell_type": "code",
   "execution_count": null,
   "metadata": {},
   "outputs": [],
   "source": [
    "# Train the network\n",
    "t0 = time.time()\n",
    "\n",
    "for epoch in range(2):  # loop over the dataset multiple times\n",
    "\n",
    "    running_loss = 0.0\n",
    "    for i, data in enumerate(train_loader, 0):\n",
    "        # get the inputs; data is a list of [inputs, labels]\n",
    "        inputs, labels = data\n",
    "        inputs, labels = inputs.to(device), labels.to(device)\n",
    "\n",
    "        # zero the parameter gradients\n",
    "        optimizer.zero_grad() # zero the gradient buffers\n",
    "\n",
    "        # forward + backward + optimize\n",
    "        outputs = net(inputs)\n",
    "        loss = criterion(outputs, labels)\n",
    "        loss.backward()\n",
    "        optimizer.step() # Does the update\n",
    "\n",
    "        # print statistics\n",
    "        running_loss += loss.item()\n",
    "        if i % 2000 == 1999:    # print every 2000 mini-batches\n",
    "            print('[%d, %5d] loss: %.3f' %\n",
    "                  (epoch + 1, i + 1, running_loss / 2000))\n",
    "            running_loss = 0.0\n",
    "\n",
    "t1 = time.time() - t0\n",
    "total_training_time.append(t1)\n",
    "\n",
    "print('Finished Training')"
   ]
  },
  {
   "cell_type": "code",
   "execution_count": null,
   "metadata": {},
   "outputs": [],
   "source": [
    "# Check accuracy after trainning one Convoluational Neural Network\n",
    "\n",
    "all_preds = []\n",
    "\n",
    "test_loader = torch.utils.data.DataLoader(testset, batch_size=4,\n",
    "                                         shuffle=False, num_workers=2)\n",
    "\n",
    "correct = 0\n",
    "total = 0\n",
    "t0 = time.time()\n",
    "\n",
    "with torch.no_grad():\n",
    "    for data in test_loader:\n",
    "        images, labels = data\n",
    "        images, labels = images.to(device), labels.to(device)\n",
    "        outputs = net(images)\n",
    "        _, predicted = torch.max(outputs.data, 1)\n",
    "        all_preds.append(predicted)\n",
    "        total += labels.size(0)\n",
    "        correct += (predicted == labels).sum().item()\n",
    "\n",
    "t1 = time.time() - t0\n",
    "total_testing_time.append(t1)\n",
    "test_accuracies.append(correct/total)\n",
    "\n",
    "print('Accuracy of the network on the 10000 test images: %d %%' % (100 * correct / total))"
   ]
  },
  {
   "cell_type": "code",
   "execution_count": null,
   "metadata": {},
   "outputs": [],
   "source": [
    "# Show the confusion matrix\n",
    "pred = torch.squeeze(torch.cat(all_preds, 0))\n",
    "sns.heatmap(confusion_matrix(test_dataset_targets, pred.cpu()),\n",
    "             square=True, annot=True, fmt='d',\n",
    "             xticklabels = target_names, yticklabels = target_names)"
   ]
  },
  {
   "cell_type": "code",
   "execution_count": null,
   "metadata": {},
   "outputs": [],
   "source": [
    "precision_recall_fscore_support(test_dataset_targets, pred.cpu(), average='macro')"
   ]
  },
  {
   "cell_type": "code",
   "execution_count": null,
   "metadata": {},
   "outputs": [],
   "source": [
    "precision_recall_fscore_support(test_dataset_targets, pred.cpu(), average='micro')"
   ]
  },
  {
   "cell_type": "markdown",
   "metadata": {},
   "source": [
    "# 4. Evaluation"
   ]
  },
  {
   "cell_type": "code",
   "execution_count": null,
   "metadata": {},
   "outputs": [],
   "source": [
    "test_accuracies, total_training_time, total_testing_time"
   ]
  },
  {
   "cell_type": "code",
   "execution_count": null,
   "metadata": {},
   "outputs": [],
   "source": [
    "# Summarise the classification accuracy, total training time, and total test time\n",
    "\n",
    "fig, axes = plt.subplots(nrows =1, ncols = 3, figsize=(10,5))\n",
    "\n",
    "x_axis = ['SVM', 'MLP', 'CNN']\n",
    "\n",
    "axes[0].bar(x_axis, test_accuracies)\n",
    "axes[0].set_title(\"classification accuracies\")\n",
    "axes[0].set_xlabel(\"classifiers\")\n",
    "axes[0].set_ylabel(\"accuracy\")\n",
    "\n",
    "axes[1].bar(x_axis, total_training_time)\n",
    "axes[1].set_title(\"total training time\")\n",
    "axes[1].set_xlabel(\"classifiers\")\n",
    "axes[1].set_ylabel(\"training time (s)\")\n",
    "\n",
    "axes[2].bar(x_axis, total_testing_time)\n",
    "axes[2].set_title(\"total testing time\")\n",
    "axes[2].set_xlabel(\"classifiers\")\n",
    "axes[2].set_ylabel(\"training time (s)\")\n",
    "\n",
    "plt.tight_layout()\n",
    "plt.show()"
   ]
  },
  {
   "cell_type": "markdown",
   "metadata": {},
   "source": [
    "1. classification accuracies: CNN > MLP > SVM.\n",
    "2. total training time: SVM on original features takes much more times than any other classifiers.\n",
    "3. total testing time: SVM is the longest and MLP on original features is the second longest.\n",
    "\n",
    "The differences between MLP and CNN are not significantly big but SVM returns much more for training and testing than other cases. This is because it computes 3*32*32 times through dataset. MLP is taking the second longest time to training."
   ]
  },
  {
   "cell_type": "markdown",
   "metadata": {},
   "source": [
    "1. As we already have seen in the Catdog dataset, moderate level size of pca components are working efficently to save the time. It also returns around 60% accuracy at the raw features plus gradually increase the accuracy depends on PCA components.\n",
    "2. Normally when we run the classification task, it is telling us to consider which model is better and take complementary results. In this study, however, CNN gives the hightest classfication accuracy within the shortest testing time. Additionally, it is much better to run in GPU environment to take shorter runtime than CPU if it is available.\n",
    "3. When we look over the confusion matrix for 3 classifiers, there are tables for the summarization of how much correct prediction. From the heatmap, we can find which classifier is working as well with vivid color tone during 10 classes tasks. And also we can check the big numbers and small numbers as indicators which class is classified at poor level."
   ]
  }
 ],
 "metadata": {
  "kernelspec": {
   "display_name": "Python 3",
   "language": "python",
   "name": "python3"
  },
  "language_info": {
   "codemirror_mode": {
    "name": "ipython",
    "version": 3
   },
   "file_extension": ".py",
   "mimetype": "text/x-python",
   "name": "python",
   "nbconvert_exporter": "python",
   "pygments_lexer": "ipython3",
   "version": "3.8.5"
  }
 },
 "nbformat": 4,
 "nbformat_minor": 4
}
