{
 "cells": [
  {
   "cell_type": "code",
   "execution_count": 9,
   "metadata": {
    "id": "kbsGF1USNQHu"
   },
   "outputs": [],
   "source": [
    "# import packages \n",
    "\n",
    "# basics\n",
    "import numpy as np\n",
    "import time\n",
    "import seaborn as sns\n",
    "import matplotlib.pyplot as plt\n",
    "%matplotlib inline\n",
    "from matplotlib import markers\n",
    "from collections import OrderedDict\n",
    "from itertools import cycle\n",
    "\n",
    "# scikit-learn imports\n",
    "from sklearn.decomposition import PCA\n",
    "from sklearn.svm import SVC\n",
    "from sklearn.metrics import confusion_matrix\n",
    "from sklearn.metrics import plot_confusion_matrix\n",
    "from sklearn.metrics import precision_recall_fscore_support\n",
    "from sklearn.metrics import roc_curve\n",
    "from sklearn.metrics import roc_auc_score\n",
    "from sklearn.model_selection import cross_val_score\n",
    "from skorch import NeuralNetClassifier\n",
    "from sklearn.model_selection import GridSearchCV\n",
    "\n",
    "# torch imports\n",
    "import torch\n",
    "import torchvision\n",
    "import torchvision.transforms as transforms\n",
    "import torch.nn as nn\n",
    "import torch.nn.functional as F\n",
    "import torch.optim as optim\n",
    "from torch.utils.data import random_split\n",
    "from torchvision.utils import make_grid"
   ]
  },
  {
   "cell_type": "code",
   "execution_count": 35,
   "metadata": {
    "colab": {
     "base_uri": "https://localhost:8080/"
    },
    "id": "Pb6qg97ENzOg",
    "outputId": "5231c79c-3a5b-4b13-d48e-a2b0923c1a08"
   },
   "outputs": [
    {
     "name": "stdout",
     "output_type": "stream",
     "text": [
      "GPU is available\n"
     ]
    }
   ],
   "source": [
    "# Check CPU / GPU environment\n",
    "if torch.cuda.is_available():\n",
    "    device = torch.device(\"cuda:0\") # Training on GPU\n",
    "    print(\"GPU is available\")\n",
    "else:\n",
    "    device = torch.device(\"cpu\") # Training on CPU\n",
    "    print(\"GPU not available, CPU used\")"
   ]
  },
  {
   "cell_type": "code",
   "execution_count": 10,
   "metadata": {
    "id": "M4zPA1pTNfla"
   },
   "outputs": [],
   "source": [
    "torch.manual_seed(20210412)\n",
    "np.random.seed(20210412)"
   ]
  },
  {
   "cell_type": "markdown",
   "metadata": {},
   "source": [
    "# 1. Data Loading & Manipulation"
   ]
  },
  {
   "cell_type": "markdown",
   "metadata": {},
   "source": [
    "***The CIFAR-10 dataset***\n",
    "collected by Alex Krizhevsky, Vinod Nair, and Geoffrey Hinton from the University of Toronto. This dataset consists of 60000 32x32 colour images in 10 classes, with 6000 images per class. Each image is a 3-channel colour images of 32x32 pixels in size. There are 50000 training images and 10000 test images."
   ]
  },
  {
   "cell_type": "code",
   "execution_count": 11,
   "metadata": {},
   "outputs": [],
   "source": [
    "debug_mode = False"
   ]
  },
  {
   "cell_type": "markdown",
   "metadata": {},
   "source": [
    "### Download the dataset"
   ]
  },
  {
   "cell_type": "code",
   "execution_count": 12,
   "metadata": {
    "colab": {
     "base_uri": "https://localhost:8080/"
    },
    "id": "lqL5EcsWNk6I",
    "outputId": "4fdf6b5d-5da0-4ffb-e0b1-222733eb75a5"
   },
   "outputs": [
    {
     "name": "stdout",
     "output_type": "stream",
     "text": [
      "Files already downloaded and verified\n",
      "Files already downloaded and verified\n"
     ]
    }
   ],
   "source": [
    "transform = transforms.Compose([transforms.ToTensor(),\n",
    "                                transforms.Normalize((0.5, 0.5, 0.5), (0.5, 0.5, 0.5))])\n",
    "\n",
    "\n",
    "# Load the training data\n",
    "trainset = torchvision.datasets.CIFAR10(root='./data', train=True,\n",
    "                                        download=True, transform=transform)\n",
    "\n",
    "train_batch_size = 1000 if debug_mode else len(trainset)\n",
    "\n",
    "trainloader = torch.utils.data.DataLoader(trainset, batch_size=train_batch_size,\n",
    "                                          shuffle=True, num_workers=2)\n",
    "\n",
    "# Load the test data\n",
    "testset = torchvision.datasets.CIFAR10(root='./data', train=False,\n",
    "                                       download=True, transform=transform)\n",
    "\n",
    "test_batch_size = 1000 if debug_mode else len(testset)\n",
    "\n",
    "testloader = torch.utils.data.DataLoader(testset, batch_size=test_batch_size,\n",
    "                                         shuffle=False, num_workers=2)\n",
    "classes = ('plane', 'car', 'bird', 'cat', 'deer', 'dog', 'frog', 'horse', 'ship', 'truck') "
   ]
  },
  {
   "cell_type": "markdown",
   "metadata": {},
   "source": [
    "### Pre-processing"
   ]
  },
  {
   "cell_type": "code",
   "execution_count": 13,
   "metadata": {
    "id": "gFXLBMxMPZo9"
   },
   "outputs": [],
   "source": [
    "# trainset\n",
    "# convert tensor data(image, label) into numpy array\n",
    "train_dataset_array, train_dataset_targets =  next(iter(trainloader)) # get a single batch from a trainloader\n",
    "train_dataset_array = train_dataset_array.numpy()\n",
    "train_dataset_targets = train_dataset_targets.numpy()\n",
    "\n",
    "# testset\n",
    "# convert tensor data(label) into numpy array\n",
    "test_dataset_array, test_dataset_targets =  next(iter(testloader))\n",
    "test_dataset_array = test_dataset_array.numpy()\n",
    "test_dataset_targets = test_dataset_targets.numpy()"
   ]
  },
  {
   "cell_type": "code",
   "execution_count": 14,
   "metadata": {
    "id": "rqIPdjY7PbRc"
   },
   "outputs": [],
   "source": [
    "# flatten the images for the MLP\n",
    "d_image, h_image, w_image = train_dataset_array.shape[1:] # (3, 32, 32)->depth(=color) 3*height 32*width 32=3072\n",
    "X_Train = train_dataset_array.reshape((train_dataset_array.shape[0], d_image*h_image*w_image))\n",
    "\n",
    "d_image, h_image, w_image = test_dataset_array.shape[1:] # (3, 32, 32)->3*32*32=3072\n",
    "X_Test = test_dataset_array.reshape((test_dataset_array.shape[0], d_image*h_image*w_image))"
   ]
  },
  {
   "cell_type": "markdown",
   "metadata": {
    "id": "tmUE9eMjJVfd"
   },
   "source": [
    "# 2. GRID search MLP\n",
    "### Multi Layer Perceptrons (MLP) model"
   ]
  },
  {
   "cell_type": "code",
   "execution_count": 33,
   "metadata": {
    "id": "PQDNBO2zJTN3"
   },
   "outputs": [],
   "source": [
    "class MLPNet(nn.Module):\n",
    "    def __init__(self, input_size, n_hidden_layers, factor):\n",
    "        super(MLPNet, self).__init__()\n",
    "\n",
    "        self.input_size = input_size\n",
    "        self.n_hidden_layers = n_hidden_layers\n",
    "        self.factor = factor\n",
    "\n",
    "        temp_width = int(input_size * factor)\n",
    "\n",
    "        layers = [nn.Linear(input_size, temp_width), nn.ReLU()]\n",
    "\n",
    "        # create a sequence of linear layers with monotonic \n",
    "        # decreases hidden layer widths\n",
    "        # use ReLU activation after each layer apart from the last\n",
    "        for i in range(n_hidden_layers - 1):\n",
    "          if int(temp_width * factor) < 10:\n",
    "            layers.append(nn.Linear(int(temp_width), int(temp_width)))\n",
    "          else:\n",
    "            layers.append(nn.Linear(int(temp_width), int(temp_width * factor)))\n",
    "            temp_width *= factor\n",
    "          \n",
    "          # add ReLU unit for the given layer \n",
    "          layers.append(nn.ReLU())\n",
    "        \n",
    "        # add the last layer \n",
    "        layers.append(nn.Linear(int(temp_width), 10))\n",
    "        self.linear_layers = nn.Sequential(*layers)\n",
    "        \n",
    "    def forward(self, x):\n",
    "        output = self.linear_layers(x)  \n",
    "        return output"
   ]
  },
  {
   "cell_type": "markdown",
   "metadata": {},
   "source": [
    "### Set Hyperparameters"
   ]
  },
  {
   "cell_type": "code",
   "execution_count": 34,
   "metadata": {
    "id": "VgD0CQ2dSzA1"
   },
   "outputs": [],
   "source": [
    "# params for grid search\n",
    "params = {\n",
    "    \"module__n_hidden_layers\" : np.array([3, 5, 7])\n",
    "    ,\"module__factor\": np.linspace(1/4, 9/10, 3)\n",
    "}"
   ]
  },
  {
   "cell_type": "code",
   "execution_count": 36,
   "metadata": {
    "id": "9TQ1kI62Ty-N"
   },
   "outputs": [],
   "source": [
    "device_name = \"cuda\" if torch.cuda.is_available else \"cpu\"\n",
    "\n",
    "net = NeuralNetClassifier(\n",
    "    MLPNet\n",
    "    ,criterion = nn.CrossEntropyLoss\n",
    "    ,optimizer = optim.SGD\n",
    "    ,module__input_size = 3*32*32\n",
    "    ,max_epochs = 10\n",
    "    ,lr = 0.01\n",
    "    ,optimizer__momentum = 0.9\n",
    "    ,device = device_name\n",
    "    ,train_split = False\n",
    ")  "
   ]
  },
  {
   "cell_type": "markdown",
   "metadata": {},
   "source": [
    "### Grid Search to find the best parameters"
   ]
  },
  {
   "cell_type": "code",
   "execution_count": 37,
   "metadata": {
    "id": "iPxYubY4XnAv"
   },
   "outputs": [],
   "source": [
    "# find the best params\n",
    "mlp_gs = GridSearchCV(net, params, refit=True, cv=3, scoring='accuracy', verbose=2)"
   ]
  },
  {
   "cell_type": "code",
   "execution_count": 38,
   "metadata": {
    "colab": {
     "base_uri": "https://localhost:8080/"
    },
    "id": "UFuf57mfXoF2",
    "outputId": "a5055abd-a806-4edd-dbb9-edad508df029"
   },
   "outputs": [
    {
     "name": "stdout",
     "output_type": "stream",
     "text": [
      "Fitting 3 folds for each of 9 candidates, totalling 27 fits\n",
      "  epoch    train_loss     dur\n",
      "-------  ------------  ------\n",
      "      1        \u001b[36m2.0095\u001b[0m  2.2055\n",
      "      2        \u001b[36m1.6459\u001b[0m  2.1710\n",
      "      3        \u001b[36m1.4979\u001b[0m  2.1756\n",
      "      4        \u001b[36m1.3899\u001b[0m  2.2685\n",
      "      5        \u001b[36m1.3007\u001b[0m  2.2068\n",
      "      6        \u001b[36m1.2156\u001b[0m  2.1894\n",
      "      7        \u001b[36m1.1366\u001b[0m  2.2205\n",
      "      8        \u001b[36m1.0587\u001b[0m  2.2090\n",
      "      9        \u001b[36m0.9787\u001b[0m  2.2050\n",
      "     10        \u001b[36m0.9020\u001b[0m  2.1823\n",
      "[CV] END .....module__factor=0.25, module__n_hidden_layers=3; total time=  23.0s\n",
      "  epoch    train_loss     dur\n",
      "-------  ------------  ------\n",
      "      1        \u001b[36m2.0221\u001b[0m  2.1609\n",
      "      2        \u001b[36m1.6452\u001b[0m  2.1876\n",
      "      3        \u001b[36m1.4921\u001b[0m  2.1912\n",
      "      4        \u001b[36m1.3843\u001b[0m  2.1740\n",
      "      5        \u001b[36m1.2952\u001b[0m  2.2053\n",
      "      6        \u001b[36m1.2148\u001b[0m  2.2012\n",
      "      7        \u001b[36m1.1356\u001b[0m  2.2011\n",
      "      8        \u001b[36m1.0591\u001b[0m  2.1858\n",
      "      9        \u001b[36m0.9846\u001b[0m  2.2003\n",
      "     10        \u001b[36m0.9173\u001b[0m  2.1899\n",
      "[CV] END .....module__factor=0.25, module__n_hidden_layers=3; total time=  22.7s\n",
      "  epoch    train_loss     dur\n",
      "-------  ------------  ------\n",
      "      1        \u001b[36m1.9930\u001b[0m  2.1437\n",
      "      2        \u001b[36m1.6314\u001b[0m  2.1762\n",
      "      3        \u001b[36m1.4880\u001b[0m  2.1792\n",
      "      4        \u001b[36m1.3818\u001b[0m  2.2116\n",
      "      5        \u001b[36m1.2888\u001b[0m  2.1885\n",
      "      6        \u001b[36m1.2050\u001b[0m  2.1983\n",
      "      7        \u001b[36m1.1240\u001b[0m  2.1980\n",
      "      8        \u001b[36m1.0458\u001b[0m  2.1751\n",
      "      9        \u001b[36m0.9699\u001b[0m  2.1964\n",
      "     10        \u001b[36m0.8982\u001b[0m  2.1697\n",
      "[CV] END .....module__factor=0.25, module__n_hidden_layers=3; total time=  22.7s\n",
      "  epoch    train_loss     dur\n",
      "-------  ------------  ------\n",
      "      1        \u001b[36m2.3038\u001b[0m  2.2782\n",
      "      2        \u001b[36m2.1572\u001b[0m  2.2878\n",
      "      3        \u001b[36m1.8478\u001b[0m  2.2554\n",
      "      4        \u001b[36m1.7117\u001b[0m  2.2585\n",
      "      5        \u001b[36m1.6052\u001b[0m  2.2779\n",
      "      6        \u001b[36m1.5063\u001b[0m  2.2638\n",
      "      7        \u001b[36m1.3997\u001b[0m  2.2518\n",
      "      8        \u001b[36m1.3105\u001b[0m  2.2565\n",
      "      9        \u001b[36m1.2313\u001b[0m  2.2440\n",
      "     10        \u001b[36m1.1753\u001b[0m  2.2366\n",
      "[CV] END .....module__factor=0.25, module__n_hidden_layers=5; total time=  23.5s\n",
      "  epoch    train_loss     dur\n",
      "-------  ------------  ------\n",
      "      1        \u001b[36m2.3030\u001b[0m  2.2799\n",
      "      2        \u001b[36m2.2174\u001b[0m  2.2865\n",
      "      3        \u001b[36m2.0009\u001b[0m  2.2542\n",
      "      4        \u001b[36m1.8670\u001b[0m  2.2748\n",
      "      5        \u001b[36m1.7720\u001b[0m  2.2557\n",
      "      6        \u001b[36m1.6693\u001b[0m  2.2543\n",
      "      7        \u001b[36m1.5397\u001b[0m  2.2647\n",
      "      8        \u001b[36m1.4376\u001b[0m  2.2729\n",
      "      9        \u001b[36m1.3509\u001b[0m  2.2810\n",
      "     10        \u001b[36m1.2803\u001b[0m  2.2387\n",
      "[CV] END .....module__factor=0.25, module__n_hidden_layers=5; total time=  23.5s\n",
      "  epoch    train_loss     dur\n",
      "-------  ------------  ------\n",
      "      1        \u001b[36m2.3038\u001b[0m  2.2429\n",
      "      2        \u001b[36m2.2637\u001b[0m  2.2575\n",
      "      3        \u001b[36m1.9412\u001b[0m  2.2459\n",
      "      4        \u001b[36m1.7454\u001b[0m  2.2522\n",
      "      5        \u001b[36m1.5829\u001b[0m  2.2503\n",
      "      6        \u001b[36m1.4716\u001b[0m  2.2497\n",
      "      7        \u001b[36m1.3785\u001b[0m  2.2519\n",
      "      8        \u001b[36m1.2980\u001b[0m  2.2514\n",
      "      9        \u001b[36m1.2168\u001b[0m  2.2750\n",
      "     10        \u001b[36m1.1449\u001b[0m  2.2390\n",
      "[CV] END .....module__factor=0.25, module__n_hidden_layers=5; total time=  23.4s\n",
      "  epoch    train_loss     dur\n",
      "-------  ------------  ------\n",
      "      1        \u001b[36m2.3059\u001b[0m  2.4364\n",
      "      2        \u001b[36m2.3012\u001b[0m  2.4425\n",
      "      3        \u001b[36m2.2088\u001b[0m  2.4049\n",
      "      4        \u001b[36m1.9920\u001b[0m  2.4314\n",
      "      5        \u001b[36m1.9308\u001b[0m  2.4179\n",
      "      6        \u001b[36m1.8374\u001b[0m  2.4635\n",
      "      7        \u001b[36m1.7096\u001b[0m  2.4245\n",
      "      8        \u001b[36m1.6046\u001b[0m  2.4297\n",
      "      9        \u001b[36m1.5214\u001b[0m  2.4290\n",
      "     10        \u001b[36m1.4521\u001b[0m  2.4116\n",
      "[CV] END .....module__factor=0.25, module__n_hidden_layers=7; total time=  25.5s\n",
      "  epoch    train_loss     dur\n",
      "-------  ------------  ------\n",
      "      1        \u001b[36m2.3053\u001b[0m  2.4152\n",
      "      2        \u001b[36m2.3022\u001b[0m  2.4271\n",
      "      3        \u001b[36m2.2929\u001b[0m  2.3866\n",
      "      4        \u001b[36m2.0803\u001b[0m  2.3960\n",
      "      5        \u001b[36m1.9670\u001b[0m  2.4127\n",
      "      6        \u001b[36m1.8756\u001b[0m  2.4134\n",
      "      7        \u001b[36m1.7769\u001b[0m  2.4119\n",
      "      8        \u001b[36m1.7097\u001b[0m  2.4179\n",
      "      9        \u001b[36m1.6545\u001b[0m  2.4272\n",
      "     10        \u001b[36m1.5960\u001b[0m  2.4044\n",
      "[CV] END .....module__factor=0.25, module__n_hidden_layers=7; total time=  25.1s\n",
      "  epoch    train_loss     dur\n",
      "-------  ------------  ------\n",
      "      1        \u001b[36m2.3046\u001b[0m  2.4023\n",
      "      2        \u001b[36m2.3028\u001b[0m  2.4314\n",
      "      3        \u001b[36m2.3017\u001b[0m  2.4335\n",
      "      4        \u001b[36m2.2755\u001b[0m  2.4118\n",
      "      5        \u001b[36m2.0504\u001b[0m  2.4032\n",
      "      6        \u001b[36m1.8967\u001b[0m  2.4271\n",
      "      7        \u001b[36m1.7806\u001b[0m  2.4178\n",
      "      8        \u001b[36m1.7054\u001b[0m  2.4430\n",
      "      9        \u001b[36m1.6368\u001b[0m  2.4157\n",
      "     10        \u001b[36m1.5698\u001b[0m  2.3839\n",
      "[CV] END .....module__factor=0.25, module__n_hidden_layers=7; total time=  25.0s\n",
      "  epoch    train_loss     dur\n",
      "-------  ------------  ------\n",
      "      1        \u001b[36m1.9582\u001b[0m  3.5252\n",
      "      2        \u001b[36m1.6032\u001b[0m  3.5320\n",
      "      3        \u001b[36m1.4539\u001b[0m  3.5406\n",
      "      4        \u001b[36m1.3411\u001b[0m  3.5252\n",
      "      5        \u001b[36m1.2394\u001b[0m  3.5314\n",
      "      6        \u001b[36m1.1403\u001b[0m  3.5054\n",
      "      7        \u001b[36m1.0440\u001b[0m  3.5419\n",
      "      8        \u001b[36m0.9472\u001b[0m  3.5157\n",
      "      9        \u001b[36m0.8508\u001b[0m  3.4773\n",
      "     10        \u001b[36m0.7600\u001b[0m  3.4982\n",
      "[CV] END ....module__factor=0.575, module__n_hidden_layers=3; total time=  36.2s\n",
      "  epoch    train_loss     dur\n",
      "-------  ------------  ------\n",
      "      1        \u001b[36m1.9615\u001b[0m  3.4600\n",
      "      2        \u001b[36m1.6006\u001b[0m  3.4965\n",
      "      3        \u001b[36m1.4470\u001b[0m  3.4945\n",
      "      4        \u001b[36m1.3341\u001b[0m  3.5002\n",
      "      5        \u001b[36m1.2360\u001b[0m  3.4941\n",
      "      6        \u001b[36m1.1421\u001b[0m  3.4991\n",
      "      7        \u001b[36m1.0478\u001b[0m  3.4954\n",
      "      8        \u001b[36m0.9545\u001b[0m  3.4655\n",
      "      9        \u001b[36m0.8619\u001b[0m  3.4349\n",
      "     10        \u001b[36m0.7837\u001b[0m  3.4948\n",
      "[CV] END ....module__factor=0.575, module__n_hidden_layers=3; total time=  35.9s\n",
      "  epoch    train_loss     dur\n",
      "-------  ------------  ------\n",
      "      1        \u001b[36m1.9529\u001b[0m  3.4648\n",
      "      2        \u001b[36m1.5993\u001b[0m  3.5002\n",
      "      3        \u001b[36m1.4525\u001b[0m  3.4939\n",
      "      4        \u001b[36m1.3379\u001b[0m  3.4680\n",
      "      5        \u001b[36m1.2394\u001b[0m  3.4783\n",
      "      6        \u001b[36m1.1449\u001b[0m  3.4845\n",
      "      7        \u001b[36m1.0517\u001b[0m  3.4592\n",
      "      8        \u001b[36m0.9573\u001b[0m  3.4488\n",
      "      9        \u001b[36m0.8633\u001b[0m  3.4541\n",
      "     10        \u001b[36m0.7717\u001b[0m  3.4463\n",
      "[CV] END ....module__factor=0.575, module__n_hidden_layers=3; total time=  35.7s\n",
      "  epoch    train_loss     dur\n",
      "-------  ------------  ------\n",
      "      1        \u001b[36m2.2690\u001b[0m  3.5847\n",
      "      2        \u001b[36m1.9227\u001b[0m  3.5925\n",
      "      3        \u001b[36m1.6927\u001b[0m  3.5892\n",
      "      4        \u001b[36m1.5186\u001b[0m  3.5893\n",
      "      5        \u001b[36m1.4002\u001b[0m  3.5736\n",
      "      6        \u001b[36m1.2952\u001b[0m  3.5764\n",
      "      7        \u001b[36m1.1959\u001b[0m  3.5939\n",
      "      8        \u001b[36m1.1035\u001b[0m  3.5909\n",
      "      9        \u001b[36m1.0382\u001b[0m  3.5876\n",
      "     10        \u001b[36m0.9880\u001b[0m  3.5752\n",
      "[CV] END ....module__factor=0.575, module__n_hidden_layers=5; total time=  36.9s\n",
      "  epoch    train_loss     dur\n",
      "-------  ------------  ------\n",
      "      1        \u001b[36m2.2771\u001b[0m  3.5849\n",
      "      2        \u001b[36m1.9232\u001b[0m  3.5752\n",
      "      3        \u001b[36m1.6715\u001b[0m  3.6096\n",
      "      4        \u001b[36m1.5167\u001b[0m  3.5772\n",
      "      5        \u001b[36m1.3998\u001b[0m  3.6014\n",
      "      6        \u001b[36m1.2981\u001b[0m  3.5762\n",
      "      7        \u001b[36m1.2042\u001b[0m  3.5926\n",
      "      8        \u001b[36m1.1089\u001b[0m  3.5882\n",
      "      9        \u001b[36m1.0270\u001b[0m  3.5881\n",
      "     10        \u001b[36m0.9866\u001b[0m  3.5749\n",
      "[CV] END ....module__factor=0.575, module__n_hidden_layers=5; total time=  36.9s\n",
      "  epoch    train_loss     dur\n",
      "-------  ------------  ------\n",
      "      1        \u001b[36m2.2636\u001b[0m  3.5736\n",
      "      2        \u001b[36m1.9144\u001b[0m  3.5915\n",
      "      3        \u001b[36m1.6933\u001b[0m  3.5919\n",
      "      4        \u001b[36m1.5215\u001b[0m  3.5929\n",
      "      5        \u001b[36m1.4039\u001b[0m  3.5974\n",
      "      6        \u001b[36m1.3045\u001b[0m  3.5636\n",
      "      7        \u001b[36m1.2115\u001b[0m  3.5753\n",
      "      8        \u001b[36m1.1142\u001b[0m  3.5783\n",
      "      9        \u001b[36m1.0181\u001b[0m  3.5752\n",
      "     10        \u001b[36m0.9491\u001b[0m  3.5721\n",
      "[CV] END ....module__factor=0.575, module__n_hidden_layers=5; total time=  36.9s\n",
      "  epoch    train_loss     dur\n",
      "-------  ------------  ------\n",
      "      1        \u001b[36m2.3031\u001b[0m  3.6805\n",
      "      2        \u001b[36m2.3024\u001b[0m  3.7013\n",
      "      3        \u001b[36m2.3001\u001b[0m  3.6835\n"
     ]
    },
    {
     "name": "stdout",
     "output_type": "stream",
     "text": [
      "      4        \u001b[36m2.2001\u001b[0m  3.6867\n",
      "      5        \u001b[36m1.9717\u001b[0m  3.6856\n",
      "      6        \u001b[36m1.8370\u001b[0m  3.6911\n",
      "      7        \u001b[36m1.7358\u001b[0m  3.7041\n",
      "      8        \u001b[36m1.6477\u001b[0m  3.6861\n",
      "      9        \u001b[36m1.5641\u001b[0m  3.6722\n",
      "     10        \u001b[36m1.4741\u001b[0m  3.6856\n",
      "[CV] END ....module__factor=0.575, module__n_hidden_layers=7; total time=  37.9s\n",
      "  epoch    train_loss     dur\n",
      "-------  ------------  ------\n",
      "      1        \u001b[36m2.3030\u001b[0m  3.6982\n",
      "      2        \u001b[36m2.3022\u001b[0m  3.6864\n",
      "      3        \u001b[36m2.2994\u001b[0m  3.6846\n",
      "      4        \u001b[36m2.1648\u001b[0m  3.6856\n",
      "      5        \u001b[36m1.9310\u001b[0m  3.6845\n",
      "      6        \u001b[36m1.8023\u001b[0m  3.6858\n",
      "      7        \u001b[36m1.7018\u001b[0m  3.6920\n",
      "      8        \u001b[36m1.6064\u001b[0m  3.6872\n",
      "      9        \u001b[36m1.4789\u001b[0m  3.6831\n",
      "     10        \u001b[36m1.3833\u001b[0m  3.6822\n",
      "[CV] END ....module__factor=0.575, module__n_hidden_layers=7; total time=  37.9s\n",
      "  epoch    train_loss     dur\n",
      "-------  ------------  ------\n",
      "      1        \u001b[36m2.3030\u001b[0m  3.6795\n",
      "      2        \u001b[36m2.3022\u001b[0m  3.7770\n",
      "      3        \u001b[36m2.2963\u001b[0m  3.6994\n",
      "      4        \u001b[36m2.0916\u001b[0m  3.6989\n",
      "      5        \u001b[36m1.9562\u001b[0m  3.6822\n",
      "      6        \u001b[36m1.8084\u001b[0m  3.6822\n",
      "      7        \u001b[36m1.6985\u001b[0m  3.6856\n",
      "      8        \u001b[36m1.6091\u001b[0m  3.6846\n",
      "      9        \u001b[36m1.5037\u001b[0m  3.7324\n",
      "     10        \u001b[36m1.3875\u001b[0m  3.6857\n",
      "[CV] END ....module__factor=0.575, module__n_hidden_layers=7; total time=  38.1s\n",
      "  epoch    train_loss     dur\n",
      "-------  ------------  ------\n",
      "      1        \u001b[36m1.9191\u001b[0m  7.0309\n",
      "      2        \u001b[36m1.5742\u001b[0m  6.9837\n",
      "      3        \u001b[36m1.4242\u001b[0m  6.9940\n",
      "      4        \u001b[36m1.3056\u001b[0m  7.0130\n",
      "      5        \u001b[36m1.1956\u001b[0m  6.9791\n",
      "      6        \u001b[36m1.0896\u001b[0m  7.0061\n",
      "      7        \u001b[36m0.9834\u001b[0m  6.9931\n",
      "      8        \u001b[36m0.8772\u001b[0m  6.9941\n",
      "      9        \u001b[36m0.7741\u001b[0m  6.9974\n",
      "     10        \u001b[36m0.6981\u001b[0m  6.9920\n",
      "[CV] END ......module__factor=0.9, module__n_hidden_layers=3; total time= 1.2min\n",
      "  epoch    train_loss     dur\n",
      "-------  ------------  ------\n",
      "      1        \u001b[36m1.9233\u001b[0m  6.9785\n",
      "      2        \u001b[36m1.5760\u001b[0m  7.0128\n",
      "      3        \u001b[36m1.4220\u001b[0m  6.9943\n",
      "      4        \u001b[36m1.3046\u001b[0m  7.0067\n",
      "      5        \u001b[36m1.1993\u001b[0m  6.9931\n",
      "      6        \u001b[36m1.0953\u001b[0m  6.9931\n",
      "      7        \u001b[36m0.9924\u001b[0m  6.9982\n",
      "      8        \u001b[36m0.8920\u001b[0m  7.0089\n",
      "      9        \u001b[36m0.7998\u001b[0m  6.9911\n",
      "     10        \u001b[36m0.7466\u001b[0m  6.9786\n",
      "[CV] END ......module__factor=0.9, module__n_hidden_layers=3; total time= 1.2min\n",
      "  epoch    train_loss     dur\n",
      "-------  ------------  ------\n",
      "      1        \u001b[36m1.9134\u001b[0m  6.9941\n",
      "      2        \u001b[36m1.5739\u001b[0m  7.0233\n",
      "      3        \u001b[36m1.4247\u001b[0m  7.0087\n",
      "      4        \u001b[36m1.3052\u001b[0m  7.0087\n",
      "      5        \u001b[36m1.1987\u001b[0m  7.0140\n",
      "      6        \u001b[36m1.0959\u001b[0m  7.0258\n",
      "      7        \u001b[36m0.9907\u001b[0m  7.0013\n",
      "      8        \u001b[36m0.8851\u001b[0m  7.0098\n",
      "      9        \u001b[36m0.7800\u001b[0m  7.0285\n",
      "     10        \u001b[36m0.6915\u001b[0m  6.9943\n",
      "[CV] END ......module__factor=0.9, module__n_hidden_layers=3; total time= 1.2min\n",
      "  epoch    train_loss     dur\n",
      "-------  ------------  ------\n",
      "      1        \u001b[36m2.2134\u001b[0m  9.4245\n",
      "      2        \u001b[36m1.8211\u001b[0m  9.3776\n",
      "      3        \u001b[36m1.5936\u001b[0m  9.3964\n",
      "      4        \u001b[36m1.4485\u001b[0m  9.3891\n",
      "      5        \u001b[36m1.3307\u001b[0m  9.3787\n",
      "      6        \u001b[36m1.2181\u001b[0m  9.3796\n",
      "      7        \u001b[36m1.1092\u001b[0m  9.3761\n",
      "      8        \u001b[36m0.9997\u001b[0m  9.3759\n",
      "      9        \u001b[36m0.9111\u001b[0m  9.3932\n",
      "     10        \u001b[36m0.9096\u001b[0m  9.3807\n",
      "[CV] END ......module__factor=0.9, module__n_hidden_layers=5; total time= 1.6min\n",
      "  epoch    train_loss     dur\n",
      "-------  ------------  ------\n",
      "      1        \u001b[36m2.2109\u001b[0m  9.3958\n",
      "      2        \u001b[36m1.8261\u001b[0m  9.3455\n",
      "      3        \u001b[36m1.5937\u001b[0m  9.7937\n",
      "      4        \u001b[36m1.4455\u001b[0m  9.5409\n",
      "      5        \u001b[36m1.3323\u001b[0m  9.5577\n",
      "      6        \u001b[36m1.2276\u001b[0m  9.5407\n",
      "      7        \u001b[36m1.1250\u001b[0m  9.5646\n",
      "      8        \u001b[36m1.0219\u001b[0m  9.5357\n",
      "      9        \u001b[36m0.9469\u001b[0m  9.5503\n",
      "     10        \u001b[36m0.9119\u001b[0m  9.5267\n",
      "[CV] END ......module__factor=0.9, module__n_hidden_layers=5; total time= 1.6min\n",
      "  epoch    train_loss     dur\n",
      "-------  ------------  ------\n",
      "      1        \u001b[36m2.2045\u001b[0m  9.5380\n",
      "      2        \u001b[36m1.8132\u001b[0m  9.5724\n",
      "      3        \u001b[36m1.5877\u001b[0m  9.5588\n",
      "      4        \u001b[36m1.4480\u001b[0m  9.5530\n",
      "      5        \u001b[36m1.3339\u001b[0m  9.5545\n",
      "      6        \u001b[36m1.2302\u001b[0m  9.5418\n",
      "      7        \u001b[36m1.1237\u001b[0m  9.5553\n",
      "      8        \u001b[36m1.0182\u001b[0m  9.5492\n",
      "      9        \u001b[36m0.9269\u001b[0m  9.5390\n",
      "     10        \u001b[36m0.8584\u001b[0m  9.6109\n",
      "[CV] END ......module__factor=0.9, module__n_hidden_layers=5; total time= 1.6min\n",
      "  epoch    train_loss      dur\n",
      "-------  ------------  -------\n",
      "      1        \u001b[36m2.3025\u001b[0m  11.2575\n",
      "      2        \u001b[36m2.2985\u001b[0m  11.2790\n",
      "      3        \u001b[36m2.1098\u001b[0m  11.2549\n",
      "      4        \u001b[36m1.8791\u001b[0m  11.2130\n",
      "      5        \u001b[36m1.7474\u001b[0m  11.2383\n",
      "      6        \u001b[36m1.6378\u001b[0m  11.1998\n",
      "      7        \u001b[36m1.4910\u001b[0m  11.2191\n",
      "      8        \u001b[36m1.3699\u001b[0m  11.1862\n",
      "      9        \u001b[36m1.2625\u001b[0m  11.1963\n",
      "     10        \u001b[36m1.1690\u001b[0m  11.2007\n",
      "[CV] END ......module__factor=0.9, module__n_hidden_layers=7; total time= 1.9min\n",
      "  epoch    train_loss      dur\n",
      "-------  ------------  -------\n",
      "      1        \u001b[36m2.3026\u001b[0m  11.1867\n",
      "      2        \u001b[36m2.2991\u001b[0m  11.2269\n",
      "      3        \u001b[36m2.1229\u001b[0m  11.1952\n",
      "      4        \u001b[36m1.8866\u001b[0m  11.1852\n",
      "      5        \u001b[36m1.7569\u001b[0m  11.1995\n",
      "      6        \u001b[36m1.6352\u001b[0m  11.2282\n",
      "      7        \u001b[36m1.4774\u001b[0m  11.1851\n",
      "      8        \u001b[36m1.3613\u001b[0m  11.2302\n",
      "      9        \u001b[36m1.2522\u001b[0m  11.2377\n",
      "     10        \u001b[36m1.1571\u001b[0m  11.3548\n",
      "[CV] END ......module__factor=0.9, module__n_hidden_layers=7; total time= 1.9min\n",
      "  epoch    train_loss      dur\n",
      "-------  ------------  -------\n",
      "      1        \u001b[36m2.3025\u001b[0m  11.2345\n",
      "      2        \u001b[36m2.2994\u001b[0m  11.2270\n",
      "      3        \u001b[36m2.1227\u001b[0m  11.2065\n",
      "      4        \u001b[36m1.8899\u001b[0m  11.1846\n",
      "      5        \u001b[36m1.7563\u001b[0m  11.1815\n",
      "      6        \u001b[36m1.6508\u001b[0m  11.0567\n",
      "      7        \u001b[36m1.5348\u001b[0m  11.0367\n",
      "      8        \u001b[36m1.3988\u001b[0m  11.0572\n",
      "      9        \u001b[36m1.2839\u001b[0m  11.0388\n",
      "     10        \u001b[36m1.1794\u001b[0m  11.0392\n",
      "[CV] END ......module__factor=0.9, module__n_hidden_layers=7; total time= 1.9min\n",
      "  epoch    train_loss      dur\n",
      "-------  ------------  -------\n",
      "      1        \u001b[36m1.8231\u001b[0m  10.4861\n",
      "      2        \u001b[36m1.4833\u001b[0m  10.4748\n",
      "      3        \u001b[36m1.3387\u001b[0m  10.4588\n",
      "      4        \u001b[36m1.2238\u001b[0m  10.6340\n",
      "      5        \u001b[36m1.1191\u001b[0m  10.7270\n",
      "      6        \u001b[36m1.0180\u001b[0m  10.7432\n",
      "      7        \u001b[36m0.9154\u001b[0m  10.7309\n",
      "      8        \u001b[36m0.8095\u001b[0m  10.7354\n",
      "      9        \u001b[36m0.7070\u001b[0m  10.7135\n",
      "     10        \u001b[36m0.6492\u001b[0m  10.7091\n"
     ]
    },
    {
     "data": {
      "text/plain": [
       "GridSearchCV(cv=3,\n",
       "             estimator=<class 'skorch.classifier.NeuralNetClassifier'>[uninitialized](\n",
       "  module=<class '__main__.MLPNet'>,\n",
       "  module__input_size=3072,\n",
       "),\n",
       "             param_grid={'module__factor': array([0.25 , 0.575, 0.9  ]),\n",
       "                         'module__n_hidden_layers': array([3, 5, 7])},\n",
       "             scoring='accuracy', verbose=2)"
      ]
     },
     "execution_count": 38,
     "metadata": {},
     "output_type": "execute_result"
    }
   ],
   "source": [
    "mlp_gs.fit(X_Train, train_dataset_targets)"
   ]
  },
  {
   "cell_type": "code",
   "execution_count": 39,
   "metadata": {
    "colab": {
     "base_uri": "https://localhost:8080/"
    },
    "id": "mRFPcEFrZGXn",
    "outputId": "94e77cb6-e7a3-47e5-d8dd-75b6e21b8926"
   },
   "outputs": [
    {
     "data": {
      "text/plain": [
       "({'module__factor': 0.9, 'module__n_hidden_layers': 3},\n",
       " 0.5041794303919515,\n",
       " <class 'skorch.classifier.NeuralNetClassifier'>[initialized](\n",
       "   module_=MLPNet(\n",
       "     (linear_layers): Sequential(\n",
       "       (0): Linear(in_features=3072, out_features=2764, bias=True)\n",
       "       (1): ReLU()\n",
       "       (2): Linear(in_features=2764, out_features=2487, bias=True)\n",
       "       (3): ReLU()\n",
       "       (4): Linear(in_features=2487, out_features=2238, bias=True)\n",
       "       (5): ReLU()\n",
       "       (6): Linear(in_features=2238, out_features=10, bias=True)\n",
       "     )\n",
       "   ),\n",
       " ))"
      ]
     },
     "execution_count": 39,
     "metadata": {},
     "output_type": "execute_result"
    }
   ],
   "source": [
    "mlp_gs.best_params_, mlp_gs.best_score_, mlp_gs.best_estimator_"
   ]
  },
  {
   "cell_type": "markdown",
   "metadata": {},
   "source": [
    "### MLP model test with best parameters from the grid search"
   ]
  },
  {
   "cell_type": "code",
   "execution_count": 41,
   "metadata": {},
   "outputs": [
    {
     "name": "stdout",
     "output_type": "stream",
     "text": [
      "Accuracy of the network on the 10000 test images: 52 %\n"
     ]
    }
   ],
   "source": [
    "mlp_pred = mlp_gs.best_estimator_.predict(X_Test)\n",
    "\n",
    "mlp_gs_test_accuracy = (mlp_pred == test_dataset_targets).sum()/len(mlp_pred)\n",
    "\n",
    "print('Accuracy of the network on the 10000 test images: %d %%' % (100 * mlp_gs_test_accuracy))"
   ]
  },
  {
   "cell_type": "markdown",
   "metadata": {},
   "source": [
    "### Evalute the classifier performance"
   ]
  },
  {
   "cell_type": "code",
   "execution_count": 42,
   "metadata": {
    "colab": {
     "base_uri": "https://localhost:8080/",
     "height": 300
    },
    "id": "sKMBuTmhOHXI",
    "outputId": "7e62af6a-b121-4e5d-b108-c321e7b58b10"
   },
   "outputs": [
    {
     "data": {
      "text/plain": [
       "<AxesSubplot:>"
      ]
     },
     "execution_count": 42,
     "metadata": {},
     "output_type": "execute_result"
    },
    {
     "data": {
      "image/png": "[encoded data removed]",
      "text/plain": [
       "<Figure size 432x288 with 2 Axes>"
      ]
     },
     "metadata": {
      "needs_background": "light"
     },
     "output_type": "display_data"
    }
   ],
   "source": [
    "# Show the confusion matrix\n",
    "target_names = ['plane', 'car', 'bird', 'cat', 'deer', 'dog', 'frog', 'horse', 'ship', 'truck']\n",
    "sns.heatmap(confusion_matrix(test_dataset_targets, mlp_pred),\n",
    "             square=True, annot=True, fmt='d',\n",
    "             xticklabels = target_names, yticklabels = target_names)"
   ]
  },
  {
   "cell_type": "code",
   "execution_count": 43,
   "metadata": {
    "colab": {
     "base_uri": "https://localhost:8080/"
    },
    "id": "8wcTmdW8OQxf",
    "outputId": "ac698722-2f80-4fe1-821d-c9f0a3634b30"
   },
   "outputs": [
    {
     "data": {
      "text/plain": [
       "(0.5375203346327492, 0.5251, 0.5207224082982042, None)"
      ]
     },
     "execution_count": 43,
     "metadata": {},
     "output_type": "execute_result"
    }
   ],
   "source": [
    "precision_recall_fscore_support(test_dataset_targets, mlp_pred, average='macro')"
   ]
  },
  {
   "cell_type": "code",
   "execution_count": 44,
   "metadata": {
    "colab": {
     "base_uri": "https://localhost:8080/"
    },
    "id": "5YpFIOooORqv",
    "outputId": "7e5514f8-c5c7-49ea-f1dd-bd65b4306c3a"
   },
   "outputs": [
    {
     "data": {
      "text/plain": [
       "(0.5251, 0.5251, 0.5251, None)"
      ]
     },
     "execution_count": 44,
     "metadata": {},
     "output_type": "execute_result"
    }
   ],
   "source": [
    "precision_recall_fscore_support(test_dataset_targets, mlp_pred, average='micro')"
   ]
  },
  {
   "cell_type": "markdown",
   "metadata": {},
   "source": [
    "### MLP Training with Optimization"
   ]
  },
  {
   "cell_type": "code",
   "execution_count": 47,
   "metadata": {},
   "outputs": [
    {
     "name": "stdout",
     "output_type": "stream",
     "text": [
      "  epoch    train_loss      dur\n",
      "-------  ------------  -------\n",
      "      1        \u001b[36m1.8204\u001b[0m  10.8530\n",
      "      2        \u001b[36m1.4824\u001b[0m  10.7570\n",
      "      3        \u001b[36m1.3374\u001b[0m  10.7355\n",
      "      4        \u001b[36m1.2224\u001b[0m  10.7374\n",
      "      5        \u001b[36m1.1179\u001b[0m  10.7838\n",
      "      6        \u001b[36m1.0174\u001b[0m  10.7160\n",
      "      7        \u001b[36m0.9146\u001b[0m  10.5921\n",
      "      8        \u001b[36m0.8105\u001b[0m  10.5249\n",
      "      9        \u001b[36m0.7123\u001b[0m  10.4963\n",
      "     10        \u001b[36m0.6409\u001b[0m  10.5237\n"
     ]
    },
    {
     "data": {
      "text/plain": [
       "<class 'skorch.classifier.NeuralNetClassifier'>[initialized](\n",
       "  module_=MLPNet(\n",
       "    (linear_layers): Sequential(\n",
       "      (0): Linear(in_features=3072, out_features=2764, bias=True)\n",
       "      (1): ReLU()\n",
       "      (2): Linear(in_features=2764, out_features=2487, bias=True)\n",
       "      (3): ReLU()\n",
       "      (4): Linear(in_features=2487, out_features=2238, bias=True)\n",
       "      (5): ReLU()\n",
       "      (6): Linear(in_features=2238, out_features=10, bias=True)\n",
       "    )\n",
       "  ),\n",
       ")"
      ]
     },
     "execution_count": 47,
     "metadata": {},
     "output_type": "execute_result"
    }
   ],
   "source": [
    "net = NeuralNetClassifier(\n",
    "    MLPNet\n",
    "    ,criterion = nn.CrossEntropyLoss\n",
    "    ,optimizer = optim.SGD\n",
    "    ,module__input_size = 3*32*32\n",
    "    ,max_epochs = 10\n",
    "    ,lr = 0.01\n",
    "    ,optimizer__momentum = 0.9\n",
    "    ,device = device_name\n",
    "    ,train_split = False\n",
    "    ,module__n_hidden_layers = mlp_gs.best_params_[\"module__n_hidden_layers\"]\n",
    "    ,module__factor = mlp_gs.best_params_[\"module__factor\"]\n",
    ") \n",
    "\n",
    "net.fit(X_Train, train_dataset_targets)"
   ]
  },
  {
   "cell_type": "code",
   "execution_count": 48,
   "metadata": {},
   "outputs": [
    {
     "data": {
      "text/plain": [
       "0.5325"
      ]
     },
     "execution_count": 48,
     "metadata": {},
     "output_type": "execute_result"
    }
   ],
   "source": [
    "(net.predict(X_Test) == test_dataset_targets).sum()/len(test_dataset_targets)"
   ]
  }
 ],
 "metadata": {
  "accelerator": "GPU",
  "colab": {
   "collapsed_sections": [],
   "name": "Final-pytorch CIFAR-10 tutorial - colab.ipynb",
   "provenance": []
  },
  "kernelspec": {
   "display_name": "INM427",
   "language": "python",
   "name": "inm427"
  },
  "language_info": {
   "codemirror_mode": {
    "name": "ipython",
    "version": 3
   },
   "file_extension": ".py",
   "mimetype": "text/x-python",
   "name": "python",
   "nbconvert_exporter": "python",
   "pygments_lexer": "ipython3",
   "version": "3.8.6"
  }
 },
 "nbformat": 4,
 "nbformat_minor": 1
}
