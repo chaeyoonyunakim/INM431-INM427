{
 "cells": [
  {
   "cell_type": "code",
   "execution_count": 1,
   "metadata": {},
   "outputs": [],
   "source": [
    "#Name: Chaeyoon Kim\n",
    "#City Email: Chaeyoon.Kim@city.ac.uk"
   ]
  },
  {
   "cell_type": "code",
   "execution_count": 2,
   "metadata": {},
   "outputs": [],
   "source": [
    "import numpy as np\n",
    "import matplotlib.pyplot as plt"
   ]
  },
  {
   "cell_type": "markdown",
   "metadata": {},
   "source": [
    "## Load Dataset"
   ]
  },
  {
   "cell_type": "code",
   "execution_count": 3,
   "metadata": {},
   "outputs": [],
   "source": [
    "from sklearn.datasets import load_digits\n",
    "\n",
    "mnist = load_digits()"
   ]
  },
  {
   "cell_type": "code",
   "execution_count": 4,
   "metadata": {},
   "outputs": [
    {
     "name": "stdout",
     "output_type": "stream",
     "text": [
      "(1797, 64)\n"
     ]
    },
    {
     "data": {
      "text/plain": [
       "array([[ 0.,  0.,  5., ...,  0.,  0.,  0.],\n",
       "       [ 0.,  0.,  0., ..., 10.,  0.,  0.],\n",
       "       [ 0.,  0.,  0., ..., 16.,  9.,  0.],\n",
       "       ...,\n",
       "       [ 0.,  0.,  1., ...,  6.,  0.,  0.],\n",
       "       [ 0.,  0.,  2., ..., 12.,  0.,  0.],\n",
       "       [ 0.,  0., 10., ..., 12.,  1.,  0.]])"
      ]
     },
     "execution_count": 4,
     "metadata": {},
     "output_type": "execute_result"
    }
   ],
   "source": [
    "X = mnist[\"data\"]\n",
    "\n",
    "print(X.shape)\n",
    "X"
   ]
  },
  {
   "cell_type": "code",
   "execution_count": 5,
   "metadata": {},
   "outputs": [
    {
     "name": "stdout",
     "output_type": "stream",
     "text": [
      "(1797,)\n"
     ]
    },
    {
     "data": {
      "text/plain": [
       "array([0, 1, 2, ..., 8, 9, 8])"
      ]
     },
     "execution_count": 5,
     "metadata": {},
     "output_type": "execute_result"
    }
   ],
   "source": [
    "y = mnist[\"target\"]\n",
    "\n",
    "print(y.shape)\n",
    "y"
   ]
  },
  {
   "cell_type": "markdown",
   "metadata": {},
   "source": [
    "## Preprocessing"
   ]
  },
  {
   "cell_type": "code",
   "execution_count": 6,
   "metadata": {},
   "outputs": [
    {
     "name": "stdout",
     "output_type": "stream",
     "text": [
      "(1797, 10)\n"
     ]
    },
    {
     "data": {
      "text/plain": [
       "array([[1., 0., 0., ..., 0., 0., 0.],\n",
       "       [0., 1., 0., ..., 0., 0., 0.],\n",
       "       [0., 0., 1., ..., 0., 0., 0.],\n",
       "       ...,\n",
       "       [0., 0., 0., ..., 0., 1., 0.],\n",
       "       [0., 0., 0., ..., 0., 0., 1.],\n",
       "       [0., 0., 0., ..., 0., 1., 0.]], dtype=float32)"
      ]
     },
     "execution_count": 6,
     "metadata": {},
     "output_type": "execute_result"
    }
   ],
   "source": [
    "from keras.utils import to_categorical\n",
    "\n",
    "y_hot = to_categorical(y)\n",
    "\n",
    "print(y_hot.shape)\n",
    "y_hot"
   ]
  },
  {
   "cell_type": "markdown",
   "metadata": {},
   "source": [
    "## Activate Functions"
   ]
  },
  {
   "cell_type": "markdown",
   "metadata": {},
   "source": [
    "### Sigmoid"
   ]
  },
  {
   "cell_type": "code",
   "execution_count": 7,
   "metadata": {},
   "outputs": [
    {
     "data": {
      "text/plain": [
       "[<matplotlib.lines.Line2D at 0x18adf447c40>]"
      ]
     },
     "execution_count": 7,
     "metadata": {},
     "output_type": "execute_result"
    },
    {
     "data": {
      "image/png": "[encoded data removed]",
      "text/plain": [
       "<Figure size 432x288 with 1 Axes>"
      ]
     },
     "metadata": {
      "needs_background": "light"
     },
     "output_type": "display_data"
    }
   ],
   "source": [
    "%matplotlib inline\n",
    "\n",
    "def sigmoid(n):\n",
    "    return 1 / (1 + np.exp(-n))\n",
    "\n",
    "xx = np.linspace(start=-9, stop=+9)\n",
    "yy = sigmoid(xx)\n",
    "\n",
    "plt.plot(xx, yy)"
   ]
  },
  {
   "cell_type": "code",
   "execution_count": 8,
   "metadata": {},
   "outputs": [
    {
     "data": {
      "text/plain": [
       "[<matplotlib.lines.Line2D at 0x18adf51dc70>]"
      ]
     },
     "execution_count": 8,
     "metadata": {},
     "output_type": "execute_result"
    },
    {
     "data": {
      "image/png": "[encoded data removed]",
      "text/plain": [
       "<Figure size 432x288 with 1 Axes>"
      ]
     },
     "metadata": {
      "needs_background": "light"
     },
     "output_type": "display_data"
    }
   ],
   "source": [
    "def sigmoid_derivative(n):\n",
    "    return sigmoid(n) * (1 - sigmoid(n))\n",
    "\n",
    "xx = np.linspace(start=-9, stop=+9)\n",
    "yy = sigmoid_derivative(xx)\n",
    "\n",
    "plt.plot(xx, yy)"
   ]
  },
  {
   "cell_type": "markdown",
   "metadata": {},
   "source": [
    "### ReLU"
   ]
  },
  {
   "cell_type": "code",
   "execution_count": 9,
   "metadata": {},
   "outputs": [
    {
     "data": {
      "text/plain": [
       "[<matplotlib.lines.Line2D at 0x18adf589070>]"
      ]
     },
     "execution_count": 9,
     "metadata": {},
     "output_type": "execute_result"
    },
    {
     "data": {
      "image/png": "[encoded data removed]",
      "text/plain": [
       "<Figure size 432x288 with 1 Axes>"
      ]
     },
     "metadata": {
      "needs_background": "light"
     },
     "output_type": "display_data"
    }
   ],
   "source": [
    "def relu(n):\n",
    "    return n * (n > 0)\n",
    "\n",
    "xx = np.linspace(start=-9, stop=+9)\n",
    "yy = relu(xx)\n",
    "\n",
    "plt.plot(xx, yy)"
   ]
  },
  {
   "cell_type": "code",
   "execution_count": 10,
   "metadata": {},
   "outputs": [
    {
     "data": {
      "text/plain": [
       "[<matplotlib.lines.Line2D at 0x18adf5da2b0>]"
      ]
     },
     "execution_count": 10,
     "metadata": {},
     "output_type": "execute_result"
    },
    {
     "data": {
      "image/png": "[encoded data removed]",
      "text/plain": [
       "<Figure size 432x288 with 1 Axes>"
      ]
     },
     "metadata": {
      "needs_background": "light"
     },
     "output_type": "display_data"
    }
   ],
   "source": [
    "def relu_derivative(n):\n",
    "    return 1 * (n > 0)\n",
    "\n",
    "xx = np.linspace(start=-9, stop=+9)\n",
    "yy = relu_derivative(xx)\n",
    "\n",
    "plt.plot(xx, yy)"
   ]
  },
  {
   "cell_type": "markdown",
   "metadata": {},
   "source": [
    "### Benchmark"
   ]
  },
  {
   "cell_type": "code",
   "execution_count": 11,
   "metadata": {},
   "outputs": [
    {
     "name": "stdout",
     "output_type": "stream",
     "text": [
      "Wall time: 29.3 s\n",
      "Wall time: 58.8 s\n"
     ]
    }
   ],
   "source": [
    "%time tmp = [sigmoid(i) for i in range(10000000)]\n",
    "%time tmp = [sigmoid_derivative(i) for i in range(10000000)]"
   ]
  },
  {
   "cell_type": "code",
   "execution_count": 12,
   "metadata": {},
   "outputs": [
    {
     "name": "stdout",
     "output_type": "stream",
     "text": [
      "Wall time: 3.35 s\n",
      "Wall time: 2.53 s\n"
     ]
    }
   ],
   "source": [
    "%time tmp = [relu(i) for i in range(10000000)]\n",
    "%time tmp = [relu_derivative(i) for i in range(10000000)]"
   ]
  },
  {
   "cell_type": "markdown",
   "metadata": {},
   "source": [
    "## Train"
   ]
  },
  {
   "cell_type": "code",
   "execution_count": 13,
   "metadata": {},
   "outputs": [],
   "source": [
    "import time\n",
    "\n",
    "def train(X, y, y_hot, num_epoch, learning_rate, activation, activation_derivative):\n",
    "    num_input = X.shape[1]\n",
    "    num_output = y_hot.shape[1]\n",
    "\n",
    "    w1 = np.random.uniform(low=-np.sqrt(6 / (num_input + 100)), high=np.sqrt(6 / (num_input + 100)), size=(num_input, 100))\n",
    "    w2 = np.random.uniform(low=-np.sqrt(6 / (100 + 100)), high=np.sqrt(6 / (100 + 100)), size=(100, 100))\n",
    "    w3 = np.random.uniform(low=-np.sqrt(6 / (100 + num_output)), high=np.sqrt(6 / (100 + 10)), size=(100, num_output))\n",
    "\n",
    "    history = []\n",
    "\n",
    "    start = time.time()\n",
    "\n",
    "    for epoch in range(num_epoch):\n",
    "        z1 = X.dot(w1)\n",
    "        a1 = activation(z1)\n",
    "        z2 = a1.dot(w2)\n",
    "        a2 = activation(z2)\n",
    "        z3 = a2.dot(w3)\n",
    "        a3 = sigmoid(z3)\n",
    "\n",
    "        y_predict = np.argmax(a3, axis=1)    \n",
    "        error = (y != y_predict).mean()\n",
    "\n",
    "        if epoch % 10 == 0:\n",
    "            print(\"{0:2} error = {1:.5f}\".format(epoch, error))\n",
    "\n",
    "        end = time.time()\n",
    "        history.append({\n",
    "            'time': end - start,\n",
    "            'error': error\n",
    "        })\n",
    "\n",
    "        d3 = a3 - y_hot\n",
    "        d2 = d3.dot(w3.T) * activation_derivative(a2)\n",
    "        d1 = d2.dot(w2.T) * activation_derivative(a1)\n",
    "\n",
    "        w3 = w3 - learning_rate * a2.T.dot(d3)\n",
    "        w2 = w2 - learning_rate * a1.T.dot(d2)\n",
    "        w1 = w1 - learning_rate * X.T.dot(d1)\n",
    "\n",
    "    end = time.time()\n",
    "    elapsed = end - start\n",
    "\n",
    "    return history, error, elapsed"
   ]
  },
  {
   "cell_type": "markdown",
   "metadata": {},
   "source": [
    "### Sigmoid"
   ]
  },
  {
   "cell_type": "code",
   "execution_count": 14,
   "metadata": {},
   "outputs": [
    {
     "name": "stdout",
     "output_type": "stream",
     "text": [
      " 0 error = 0.89928\n",
      "10 error = 0.35170\n",
      "20 error = 0.22204\n",
      "30 error = 0.22148\n",
      "40 error = 0.21425\n",
      "50 error = 0.20256\n",
      "60 error = 0.17251\n",
      "70 error = 0.16305\n",
      "80 error = 0.14691\n",
      "90 error = 0.14246\n",
      "----------------------------------------\n",
      "[sigmoid] Elapsed = 4.84 seconds, error = 0.14469\n"
     ]
    }
   ],
   "source": [
    "# Write your code here!\n",
    "\n",
    "num_epoch = 100\n",
    "learning_rate = 0.0003\n",
    "\n",
    "sigmoid_history, error, elapsed = train(X, y, y_hot, num_epoch, learning_rate,\n",
    "                                       activation=sigmoid,\n",
    "                                       activation_derivative=sigmoid_derivative)\n",
    "\n",
    "print(\"----\" * 10)\n",
    "print(\"[sigmoid] Elapsed = {0:.2f} seconds, error = {1:.5f}\" \\\n",
    "     .format(elapsed, error))"
   ]
  },
  {
   "cell_type": "markdown",
   "metadata": {},
   "source": [
    "### ReLU"
   ]
  },
  {
   "cell_type": "code",
   "execution_count": 15,
   "metadata": {},
   "outputs": [
    {
     "name": "stdout",
     "output_type": "stream",
     "text": [
      " 0 error = 0.88926\n",
      "10 error = 0.29661\n",
      "20 error = 0.20145\n",
      "30 error = 0.12743\n",
      "40 error = 0.09182\n",
      "50 error = 0.07568\n",
      "60 error = 0.06177\n",
      "70 error = 0.04841\n",
      "80 error = 0.04508\n",
      "90 error = 0.03673\n",
      "----------------------------------------\n",
      "[ReLU] Elapsed = 2.85 seconds, error = 0.03172\n"
     ]
    }
   ],
   "source": [
    "# Write your code here!\n",
    "\n",
    "num_epoch = 100\n",
    "learning_rate = 0.00001\n",
    "\n",
    "relu_history, error, elapsed = train(X, y, y_hot, num_epoch, learning_rate,\n",
    "                                       activation=relu,\n",
    "                                       activation_derivative=relu_derivative)\n",
    "\n",
    "print(\"----\" * 10)\n",
    "print(\"[ReLU] Elapsed = {0:.2f} seconds, error = {1:.5f}\" \\\n",
    "     .format(elapsed, error))"
   ]
  },
  {
   "cell_type": "code",
   "execution_count": 17,
   "metadata": {},
   "outputs": [
    {
     "data": {
      "text/plain": [
       "<matplotlib.legend.Legend at 0x18a86ceebe0>"
      ]
     },
     "execution_count": 17,
     "metadata": {},
     "output_type": "execute_result"
    },
    {
     "data": {
      "image/png": "[encoded data removed]",
      "text/plain": [
       "<Figure size 432x288 with 1 Axes>"
      ]
     },
     "metadata": {
      "needs_background": "light"
     },
     "output_type": "display_data"
    }
   ],
   "source": [
    "import pandas as pd\n",
    "\n",
    "sigmoid_history = pd.DataFrame(sigmoid_history)\n",
    "relu_history = pd.DataFrame(relu_history)\n",
    "\n",
    "plt.plot(sigmoid_history[\"time\"], sigmoid_history[\"error\"], label = \"sigmoid\")\n",
    "plt.plot(relu_history[\"time\"], relu_history[\"error\"], label = \"ReLU\")\n",
    "\n",
    "plt.legend()"
   ]
  }
 ],
 "metadata": {
  "kernelspec": {
   "display_name": "INM427",
   "language": "python",
   "name": "inm427"
  },
  "language_info": {
   "codemirror_mode": {
    "name": "ipython",
    "version": 3
   },
   "file_extension": ".py",
   "mimetype": "text/x-python",
   "name": "python",
   "nbconvert_exporter": "python",
   "pygments_lexer": "ipython3",
   "version": "3.8.6"
  }
 },
 "nbformat": 4,
 "nbformat_minor": 2
}
